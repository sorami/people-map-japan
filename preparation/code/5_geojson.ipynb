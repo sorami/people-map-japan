{
 "cells": [
  {
   "cell_type": "markdown",
   "id": "61f371b4",
   "metadata": {},
   "source": [
    "# MapLibreによる描画のためのgeoJSONを作成"
   ]
  },
  {
   "cell_type": "code",
   "execution_count": 1,
   "id": "0b27da14",
   "metadata": {},
   "outputs": [],
   "source": [
    "import json\n",
    "import statistics\n",
    "from collections import Counter\n",
    "\n",
    "import pandas as pd"
   ]
  },
  {
   "cell_type": "code",
   "execution_count": 2,
   "id": "801b85e7",
   "metadata": {
    "scrolled": true
   },
   "outputs": [
    {
     "data": {
      "text/plain": [
       "1560"
      ]
     },
     "execution_count": 2,
     "metadata": {},
     "output_type": "execute_result"
    }
   ],
   "source": [
    "with open(\"../data/people_for_map.json\") as fp:\n",
    "    people_for_map = json.load(fp)\n",
    "len(people_for_map)"
   ]
  },
  {
   "cell_type": "markdown",
   "id": "e38d408f",
   "metadata": {},
   "source": [
    "## 市区町村ごとの人物"
   ]
  },
  {
   "cell_type": "markdown",
   "id": "5c230b1f",
   "metadata": {},
   "source": [
    "### 概要文や名前の前処理"
   ]
  },
  {
   "cell_type": "code",
   "execution_count": 3,
   "id": "ef7f104c",
   "metadata": {},
   "outputs": [],
   "source": [
    "def abbr_text(text, maxlen=140):\n",
    "    if len(text) <= maxlen:\n",
    "        return text\n",
    "    return text[:maxlen-1] + \"…\""
   ]
  },
  {
   "cell_type": "code",
   "execution_count": 4,
   "id": "5db54dbe",
   "metadata": {},
   "outputs": [],
   "source": [
    "for p in people_for_map:\n",
    "    p[\"name\"] = p[\"page\"].replace(\"_\", \" \").split(\"(\")[0]\n",
    "    p[\"url\"] = f\"https://ja.wikipedia.org/wiki/{p['page']}\"\n",
    "    p[\"desc\"] = abbr_text(p[\"abstract\"])"
   ]
  },
  {
   "cell_type": "markdown",
   "id": "45143522",
   "metadata": {},
   "source": [
    "### PV数"
   ]
  },
  {
   "cell_type": "code",
   "execution_count": 5,
   "id": "14d2f7bf",
   "metadata": {},
   "outputs": [
    {
     "data": {
      "text/plain": [
       "1560"
      ]
     },
     "execution_count": 5,
     "metadata": {},
     "output_type": "execute_result"
    }
   ],
   "source": [
    "sorted_views = sorted([(p[\"views\"]) for p in people_for_map], reverse=True)\n",
    "len(sorted_views)"
   ]
  },
  {
   "cell_type": "code",
   "execution_count": 6,
   "id": "49259776",
   "metadata": {},
   "outputs": [
    {
     "data": {
      "image/png": "[encoded data removed]",
      "text/plain": [
       "<Figure size 432x288 with 1 Axes>"
      ]
     },
     "metadata": {},
     "output_type": "display_data"
    }
   ],
   "source": [
    "import matplotlib.pyplot as plt\n",
    "plt.style.use('fivethirtyeight')\n",
    "df = pd.DataFrame(sorted_views).plot.hist();"
   ]
  },
  {
   "cell_type": "code",
   "execution_count": 7,
   "id": "37536547",
   "metadata": {},
   "outputs": [
    {
     "name": "stdout",
     "output_type": "stream",
     "text": [
      "max: \t 4,914,419\n",
      "mean: \t 344,350\n",
      "median: \t 165,016\n",
      "min: \t 659\n"
     ]
    }
   ],
   "source": [
    "d = {\n",
    "    \"max\": max(sorted_views),\n",
    "    \"mean\": statistics.mean(sorted_views),\n",
    "    \"median\": statistics.median(sorted_views),\n",
    "    \"min\": min(sorted_views)\n",
    "}\n",
    "\n",
    "for k, v in d.items():\n",
    "    print(f\"{k:}: \\t {round(v):,}\")"
   ]
  },
  {
   "cell_type": "code",
   "execution_count": 8,
   "id": "22b6fb41",
   "metadata": {
    "scrolled": true
   },
   "outputs": [
    {
     "data": {
      "text/plain": [
       "Counter({'lg': 127, 'md': 798, 'sm': 635})"
      ]
     },
     "execution_count": 8,
     "metadata": {},
     "output_type": "execute_result"
    }
   ],
   "source": [
    "ref_large = 1_000_000\n",
    "ref_medium = 100_000\n",
    "\n",
    "def categorize_views(views):\n",
    "    if views > ref_large:\n",
    "        return \"lg\"\n",
    "    elif views > ref_medium:\n",
    "        return \"md\"\n",
    "    return \"sm\"\n",
    "\n",
    "Counter([categorize_views(v) for v in sorted_views])"
   ]
  },
  {
   "cell_type": "code",
   "execution_count": 9,
   "id": "4206b3db",
   "metadata": {},
   "outputs": [
    {
     "data": {
      "text/plain": [
       "1560"
      ]
     },
     "execution_count": 9,
     "metadata": {},
     "output_type": "execute_result"
    }
   ],
   "source": [
    "features = []\n",
    "for p in people_for_map:\n",
    "        feat = {\n",
    "            \"type\": \"Feature\",\n",
    "            \"geometry\": {\n",
    "                \"type\": \"Point\",\n",
    "                \"coordinates\": p[\"coords\"]\n",
    "            },\n",
    "            \"properties\": {\n",
    "                \"group\": categorize_views(p[\"views\"]),\n",
    "                \"person\": p[\"name\"],\n",
    "                \"pref\": p[\"pref\"],\n",
    "                \"munic\": p[\"munic\"],\n",
    "                \"desc\": p[\"desc\"],\n",
    "                \"url\": p[\"url\"]\n",
    "            }\n",
    "        }\n",
    "        features.append(feat)\n",
    "\n",
    "len(features)"
   ]
  },
  {
   "cell_type": "markdown",
   "id": "8c549855",
   "metadata": {},
   "source": [
    "## ページがひとつもなかった市区町村"
   ]
  },
  {
   "cell_type": "code",
   "execution_count": 10,
   "id": "ed42d683",
   "metadata": {},
   "outputs": [],
   "source": [
    "with open(\"../data/pref_munic_pages.json\") as fp:\n",
    "    pref_munic_pages = json.load(fp)\n",
    "\n",
    "with open(\"../data/pref_munic_coords.json\") as fp:\n",
    "    pref_munic_coords = json.load(fp)"
   ]
  },
  {
   "cell_type": "code",
   "execution_count": 11,
   "id": "85edc2f9",
   "metadata": {},
   "outputs": [
    {
     "data": {
      "text/plain": [
       "336"
      ]
     },
     "execution_count": 11,
     "metadata": {},
     "output_type": "execute_result"
    }
   ],
   "source": [
    "zero_page_locations = []\n",
    "\n",
    "for pref, munic_pages in pref_munic_pages.items():\n",
    "    for munic, pages in munic_pages.items():\n",
    "        if not pages:\n",
    "            zero_page_locations.append( (pref, munic) )\n",
    "\n",
    "len(zero_page_locations)"
   ]
  },
  {
   "cell_type": "code",
   "execution_count": 12,
   "id": "2f0ec64e",
   "metadata": {},
   "outputs": [
    {
     "data": {
      "text/plain": [
       "1896"
      ]
     },
     "execution_count": 12,
     "metadata": {},
     "output_type": "execute_result"
    }
   ],
   "source": [
    "for pref, munic in zero_page_locations:\n",
    "        feat = {\n",
    "            \"type\": \"Feature\",\n",
    "            \"geometry\": {\n",
    "                \"type\": \"Point\",\n",
    "                \"coordinates\": pref_munic_coords[pref][munic]\n",
    "            },\n",
    "            \"properties\": {\n",
    "                \"group\": \"na\",\n",
    "                \"pref\": pref,\n",
    "                \"munic\": munic\n",
    "            }\n",
    "        }\n",
    "        features.append(feat)\n",
    "\n",
    "len(features)"
   ]
  },
  {
   "cell_type": "code",
   "execution_count": 13,
   "id": "62142a43",
   "metadata": {},
   "outputs": [],
   "source": [
    "assert len(features) == sum([len(x) for x in pref_munic_coords.values()])"
   ]
  },
  {
   "cell_type": "code",
   "execution_count": 14,
   "id": "80daa308",
   "metadata": {},
   "outputs": [],
   "source": [
    "geojson = {\n",
    "    \"type\": \"FeatureCollection\",\n",
    "    \"features\": features\n",
    "}\n",
    "with open(\"../../public/data/people.geojson\", \"w\") as fp:\n",
    "    json.dump(geojson, fp, ensure_ascii=False)"
   ]
  }
 ],
 "metadata": {
  "kernelspec": {
   "display_name": "Python 3 (ipykernel)",
   "language": "python",
   "name": "python3"
  },
  "language_info": {
   "codemirror_mode": {
    "name": "ipython",
    "version": 3
   },
   "file_extension": ".py",
   "mimetype": "text/x-python",
   "name": "python",
   "nbconvert_exporter": "python",
   "pygments_lexer": "ipython3",
   "version": "3.10.0"
  }
 },
 "nbformat": 4,
 "nbformat_minor": 5
}
