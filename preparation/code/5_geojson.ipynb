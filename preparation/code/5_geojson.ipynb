{
 "cells": [
  {
   "cell_type": "markdown",
   "id": "61f371b4",
   "metadata": {},
   "source": [
    "# MapLibreによる描画のためのgeoJSONを作成"
   ]
  },
  {
   "cell_type": "code",
   "execution_count": 1,
   "id": "0b27da14",
   "metadata": {},
   "outputs": [],
   "source": [
    "import json\n",
    "import statistics\n",
    "from collections import Counter\n",
    "\n",
    "import pandas as pd"
   ]
  },
  {
   "cell_type": "code",
   "execution_count": 2,
   "id": "801b85e7",
   "metadata": {
    "scrolled": true
   },
   "outputs": [
    {
     "data": {
      "text/plain": [
       "1560"
      ]
     },
     "execution_count": 2,
     "metadata": {},
     "output_type": "execute_result"
    }
   ],
   "source": [
    "with open(\"../data/people_for_map.json\") as fp:\n",
    "    people_for_map = json.load(fp)\n",
    "len(people_for_map)"
   ]
  },
  {
   "cell_type": "markdown",
   "id": "e38d408f",
   "metadata": {},
   "source": [
    "## 市区町村ごとの人物"
   ]
  },
  {
   "cell_type": "markdown",
   "id": "5c230b1f",
   "metadata": {},
   "source": [
    "### 概要文や名前の前処理"
   ]
  },
  {
   "cell_type": "code",
   "execution_count": 3,
   "id": "ef7f104c",
   "metadata": {},
   "outputs": [],
   "source": [
    "def abbr_text(text, maxlen=140):\n",
    "    if len(text) <= maxlen:\n",
    "        return text\n",
    "    return text[:maxlen-1] + \"…\""
   ]
  },
  {
   "cell_type": "code",
   "execution_count": 4,
   "id": "5db54dbe",
   "metadata": {},
   "outputs": [],
   "source": [
    "for p in people_for_map:\n",
    "    p[\"name\"] = p[\"page\"].replace(\"_\", \" \").split(\"(\")[0]\n",
    "    p[\"url\"] = f\"https://ja.wikipedia.org/wiki/{p['page']}\"\n",
    "    p[\"desc\"] = abbr_text(p[\"abstract\"])"
   ]
  },
  {
   "cell_type": "markdown",
   "id": "45143522",
   "metadata": {},
   "source": [
    "### PV数"
   ]
  },
  {
   "cell_type": "code",
   "execution_count": 5,
   "id": "14d2f7bf",
   "metadata": {},
   "outputs": [
    {
     "data": {
      "text/plain": [
       "1560"
      ]
     },
     "execution_count": 5,
     "metadata": {},
     "output_type": "execute_result"
    }
   ],
   "source": [
    "sorted_views = sorted([(p[\"views\"]) for p in people_for_map], reverse=True)\n",
    "len(sorted_views)"
   ]
  },
  {
   "cell_type": "code",
   "execution_count": 6,
   "id": "49259776",
   "metadata": {},
   "outputs": [
    {
     "data": {
      "image/png": "[encoded data removed]",
      "text/plain": [
       "<Figure size 432x288 with 1 Axes>"
      ]
     },
     "metadata": {},
     "output_type": "display_data"
    }
   ],
   "source": [
    "import matplotlib.pyplot as plt\n",
    "plt.style.use('fivethirtyeight')\n",
    "df = pd.DataFrame(sorted_views).plot.hist();"
   ]
  },
  {
   "cell_type": "code",
   "execution_count": 7,
   "id": "37536547",
   "metadata": {},
   "outputs": [
    {
     "name": "stdout",
     "output_type": "stream",
     "text": [
      "max: \t 4,914,419\n",
      "mean: \t 344,350\n",
      "median: \t 165,016\n",
      "min: \t 659\n"
     ]
    }
   ],
   "source": [
    "d = {\n",
    "    \"max\": max(sorted_views),\n",
    "    \"mean\": statistics.mean(sorted_views),\n",
    "    \"median\": statistics.median(sorted_views),\n",
    "    \"min\": min(sorted_views)\n",
    "}\n",
    "\n",
    "for k, v in d.items():\n",
    "    print(f\"{k:}: \\t {round(v):,}\")"
   ]
  },
  {
   "cell_type": "code",
   "execution_count": 8,
   "id": "22b6fb41",
   "metadata": {
    "scrolled": true
   },
   "outputs": [
    {
     "data": {
      "text/plain": [
       "Counter({'lg': 127, 'md': 798, 'sm': 635})"
      ]
     },
     "execution_count": 8,
     "metadata": {},
     "output_type": "execute_result"
    }
   ],
   "source": [
    "ref_large = 1_000_000\n",
    "ref_medium = 100_000\n",
    "\n",
    "def categorize_views(views):\n",
    "    if views > ref_large:\n",
    "        return \"lg\"\n",
    "    elif views > ref_medium:\n",
    "        return \"md\"\n",
    "    return \"sm\"\n",
    "\n",
    "Counter([categorize_views(v) for v in sorted_views])"
   ]
  },
  {
   "cell_type": "code",
   "execution_count": 9,
   "id": "4206b3db",
   "metadata": {},
   "outputs": [
    {
     "data": {
      "text/plain": [
       "1560"
      ]
     },
     "execution_count": 9,
     "metadata": {},
     "output_type": "execute_result"
    }
   ],
   "source": [
    "features = []\n",
    "for p in people_for_map:\n",
    "        feat = {\n",
    "            \"type\": \"Feature\",\n",
    "            \"geometry\": {\n",
    "                \"type\": \"Point\",\n",
    "                \"coordinates\": p[\"coords\"]\n",
    "            },\n",
    "            \"properties\": {\n",
    "                \"group\": categorize_views(p[\"views\"]),\n",
    "                \"person\": p[\"name\"],\n",
    "                \"pref\": p[\"pref\"],\n",
    "                \"munic\": p[\"munic\"],\n",
    "                \"desc\": p[\"desc\"],\n",
    "                \"url\": p[\"url\"]\n",
    "            }\n",
    "        }\n",
    "        features.append(feat)\n",
    "\n",
    "len(features)"
   ]
  },
  {
   "cell_type": "markdown",
   "id": "8c549855",
   "metadata": {},
   "source": [
    "## ページがひとつもなかった市区町村"
   ]
  },
  {
   "cell_type": "code",
   "execution_count": 10,
   "id": "ed42d683",
   "metadata": {},
   "outputs": [],
   "source": [
    "with open(\"../data/pref_munic_pages.json\") as fp:\n",
    "    pref_munic_pages = json.load(fp)\n",
    "\n",
    "with open(\"../data/pref_munic_coords.json\") as fp:\n",
    "    pref_munic_coords = json.load(fp)"
   ]
  },
  {
   "cell_type": "code",
   "execution_count": 11,
   "id": "85edc2f9",
   "metadata": {},
   "outputs": [
    {
     "data": {
      "text/plain": [
       "336"
      ]
     },
     "execution_count": 11,
     "metadata": {},
     "output_type": "execute_result"
    }
   ],
   "source": [
    "zero_page_locations = []\n",
    "\n",
    "for pref, munic_pages in pref_munic_pages.items():\n",
    "    for munic, pages in munic_pages.items():\n",
    "        if not pages:\n",
    "            zero_page_locations.append( (pref, munic) )\n",
    "\n",
    "len(zero_page_locations)"
   ]
  },
  {
   "cell_type": "code",
   "execution_count": 12,
   "id": "f7e78548",
   "metadata": {},
   "outputs": [
    {
     "data": {
      "text/plain": [
       "[('北海道', '札幌市中央区'),\n",
       " ('北海道', '石狩郡新篠津村'),\n",
       " ('北海道', '松前郡福島町'),\n",
       " ('北海道', '檜山郡江差町'),\n",
       " ('北海道', '檜山郡上ノ国町'),\n",
       " ('北海道', '檜山郡厚沢部町'),\n",
       " ('北海道', '爾志郡乙部町'),\n",
       " ('北海道', '島牧郡島牧村'),\n",
       " ('北海道', '寿都郡寿都町'),\n",
       " ('北海道', '寿都郡黒松内町'),\n",
       " ('北海道', '磯谷郡蘭越町'),\n",
       " ('北海道', '虻田郡留寿都村'),\n",
       " ('北海道', '虻田郡京極町'),\n",
       " ('北海道', '虻田郡倶知安町'),\n",
       " ('北海道', '積丹郡積丹町'),\n",
       " ('北海道', '古平郡古平町'),\n",
       " ('北海道', '余市郡仁木町'),\n",
       " ('北海道', '空知郡南幌町'),\n",
       " ('北海道', '空知郡奈井江町'),\n",
       " ('北海道', '空知郡上砂川町'),\n",
       " ('北海道', '夕張郡長沼町'),\n",
       " ('北海道', '樺戸郡月形町'),\n",
       " ('北海道', '樺戸郡浦臼町'),\n",
       " ('北海道', '雨竜郡秩父別町'),\n",
       " ('北海道', '雨竜郡北竜町'),\n",
       " ('北海道', '上川郡比布町'),\n",
       " ('北海道', '上川郡愛別町'),\n",
       " ('北海道', '空知郡上富良野町'),\n",
       " ('北海道', '空知郡中富良野町'),\n",
       " ('北海道', '勇払郡占冠村'),\n",
       " ('北海道', '上川郡下川町'),\n",
       " ('北海道', '中川郡音威子府村'),\n",
       " ('北海道', '雨竜郡幌加内町'),\n",
       " ('北海道', '苫前郡苫前町'),\n",
       " ('北海道', '苫前郡初山別村'),\n",
       " ('北海道', '天塩郡遠別町'),\n",
       " ('北海道', '枝幸郡中頓別町'),\n",
       " ('北海道', '天塩郡豊富町'),\n",
       " ('北海道', '利尻郡利尻町'),\n",
       " ('北海道', '利尻郡利尻富士町'),\n",
       " ('北海道', '天塩郡幌延町'),\n",
       " ('北海道', '網走郡津別町'),\n",
       " ('北海道', '斜里郡清里町'),\n",
       " ('北海道', '斜里郡小清水町'),\n",
       " ('北海道', '常呂郡訓子府町'),\n",
       " ('北海道', '紋別郡遠軽町'),\n",
       " ('北海道', '紋別郡滝上町'),\n",
       " ('北海道', '紋別郡興部町'),\n",
       " ('北海道', '紋別郡雄武町'),\n",
       " ('北海道', '網走郡大空町'),\n",
       " ('北海道', '有珠郡壮瞥町'),\n",
       " ('北海道', '虻田郡洞爺湖町'),\n",
       " ('北海道', '様似郡様似町'),\n",
       " ('北海道', '幌泉郡えりも町'),\n",
       " ('北海道', '河東郡士幌町'),\n",
       " ('北海道', '河西郡更別村'),\n",
       " ('北海道', '広尾郡大樹町'),\n",
       " ('北海道', '中川郡豊頃町'),\n",
       " ('北海道', '中川郡本別町'),\n",
       " ('北海道', '足寄郡陸別町'),\n",
       " ('北海道', '十勝郡浦幌町'),\n",
       " ('北海道', '厚岸郡浜中町'),\n",
       " ('北海道', '川上郡標茶町'),\n",
       " ('北海道', '阿寒郡鶴居村'),\n",
       " ('北海道', '白糠郡白糠町'),\n",
       " ('青森県', '東津軽郡今別町'),\n",
       " ('青森県', '東津軽郡外ケ浜町'),\n",
       " ('青森県', '西津軽郡鰺ヶ沢町'),\n",
       " ('青森県', '西津軽郡深浦町'),\n",
       " ('青森県', '中津軽郡西目屋村'),\n",
       " ('青森県', '南津軽郡大鰐町'),\n",
       " ('青森県', '北津軽郡鶴田町'),\n",
       " ('青森県', '北津軽郡中泊町'),\n",
       " ('青森県', '下北郡大間町'),\n",
       " ('青森県', '下北郡東通村'),\n",
       " ('青森県', '下北郡風間浦村'),\n",
       " ('青森県', '下北郡佐井村'),\n",
       " ('青森県', '三戸郡田子町'),\n",
       " ('青森県', '三戸郡階上町'),\n",
       " ('青森県', '三戸郡新郷村'),\n",
       " ('岩手県', '岩手郡葛巻町'),\n",
       " ('岩手県', '気仙郡住田町'),\n",
       " ('岩手県', '下閉伊郡田野畑村'),\n",
       " ('岩手県', '九戸郡軽米町'),\n",
       " ('岩手県', '九戸郡野田村'),\n",
       " ('岩手県', '九戸郡洋野町'),\n",
       " ('宮城県', '刈田郡蔵王町'),\n",
       " ('宮城県', '柴田郡大河原町'),\n",
       " ('宮城県', '柴田郡村田町'),\n",
       " ('宮城県', '柴田郡川崎町'),\n",
       " ('宮城県', '伊具郡丸森町'),\n",
       " ('宮城県', '黒川郡大郷町'),\n",
       " ('宮城県', '黒川郡大衡村'),\n",
       " ('宮城県', '加美郡色麻町'),\n",
       " ('秋田県', '北秋田郡上小阿仁村'),\n",
       " ('秋田県', '山本郡藤里町'),\n",
       " ('秋田県', '山本郡八峰町'),\n",
       " ('秋田県', '南秋田郡井川町'),\n",
       " ('秋田県', '仙北郡美郷町'),\n",
       " ('山形県', '西村山郡朝日町'),\n",
       " ('山形県', '北村山郡大石田町'),\n",
       " ('山形県', '最上郡舟形町'),\n",
       " ('山形県', '最上郡真室川町'),\n",
       " ('山形県', '最上郡大蔵村'),\n",
       " ('山形県', '東置賜郡川西町'),\n",
       " ('山形県', '西置賜郡小国町'),\n",
       " ('山形県', '西置賜郡飯豊町'),\n",
       " ('山形県', '東田川郡三川町'),\n",
       " ('福島県', '伊達郡国見町'),\n",
       " ('福島県', '伊達郡川俣町'),\n",
       " ('福島県', '安達郡大玉村'),\n",
       " ('福島県', '南会津郡檜枝岐村'),\n",
       " ('福島県', '南会津郡南会津町'),\n",
       " ('福島県', '耶麻郡北塩原村'),\n",
       " ('福島県', '耶麻郡磐梯町'),\n",
       " ('福島県', '河沼郡柳津町'),\n",
       " ('福島県', '大沼郡三島町'),\n",
       " ('福島県', '大沼郡金山町'),\n",
       " ('福島県', '大沼郡昭和村'),\n",
       " ('福島県', '西白河郡泉崎村'),\n",
       " ('福島県', '西白河郡中島村'),\n",
       " ('福島県', '東白川郡鮫川村'),\n",
       " ('福島県', '石川郡平田村'),\n",
       " ('福島県', '石川郡古殿町'),\n",
       " ('福島県', '双葉郡広野町'),\n",
       " ('福島県', '双葉郡川内村'),\n",
       " ('福島県', '双葉郡大熊町'),\n",
       " ('福島県', '双葉郡葛尾村'),\n",
       " ('福島県', '相馬郡飯舘村'),\n",
       " ('茨城県', '龍ヶ崎市'),\n",
       " ('茨城県', '稲敷郡河内町'),\n",
       " ('茨城県', '猿島郡五霞町'),\n",
       " ('茨城県', '北相馬郡利根町'),\n",
       " ('栃木県', '芳賀郡芳賀町'),\n",
       " ('栃木県', '那須郡那須町'),\n",
       " ('群馬県', '北群馬郡榛東村'),\n",
       " ('群馬県', '北群馬郡吉岡町'),\n",
       " ('群馬県', '甘楽郡南牧村'),\n",
       " ('群馬県', '吾妻郡高山村'),\n",
       " ('群馬県', '利根郡みなかみ町'),\n",
       " ('群馬県', '邑楽郡板倉町'),\n",
       " ('埼玉県', '北足立郡伊奈町'),\n",
       " ('埼玉県', '比企郡鳩山町'),\n",
       " ('埼玉県', '比企郡ときがわ町'),\n",
       " ('埼玉県', '秩父郡長瀞町'),\n",
       " ('埼玉県', '秩父郡小鹿野町'),\n",
       " ('埼玉県', '秩父郡東秩父村'),\n",
       " ('埼玉県', '児玉郡美里町'),\n",
       " ('千葉県', '香取郡神崎町'),\n",
       " ('千葉県', '長生郡睦沢町'),\n",
       " ('千葉県', '長生郡長生村'),\n",
       " ('千葉県', '長生郡長南町'),\n",
       " ('千葉県', '夷隅郡大多喜町'),\n",
       " ('千葉県', '安房郡鋸南町'),\n",
       " ('東京都', '西多摩郡檜原村'),\n",
       " ('東京都', '西多摩郡奥多摩町'),\n",
       " ('東京都', '利島村'),\n",
       " ('東京都', '新島村'),\n",
       " ('東京都', '三宅村'),\n",
       " ('東京都', '青ヶ島村'),\n",
       " ('東京都', '小笠原村'),\n",
       " ('神奈川県', '中郡二宮町'),\n",
       " ('神奈川県', '足柄上郡松田町'),\n",
       " ('神奈川県', '足柄上郡開成町'),\n",
       " ('神奈川県', '足柄下郡真鶴町'),\n",
       " ('神奈川県', '愛甲郡清川村'),\n",
       " ('新潟県', '東蒲原郡阿賀町'),\n",
       " ('新潟県', '中魚沼郡津南町'),\n",
       " ('新潟県', '岩船郡関川村'),\n",
       " ('新潟県', '岩船郡粟島浦村'),\n",
       " ('石川県', '能美郡川北町'),\n",
       " ('福井県', '大飯郡おおい町'),\n",
       " ('山梨県', '南巨摩郡早川町'),\n",
       " ('山梨県', '南都留郡道志村'),\n",
       " ('山梨県', '南都留郡西桂町'),\n",
       " ('山梨県', '南都留郡忍野村'),\n",
       " ('山梨県', '南都留郡山中湖村'),\n",
       " ('山梨県', '南都留郡鳴沢村'),\n",
       " ('山梨県', '北都留郡小菅村'),\n",
       " ('山梨県', '北都留郡丹波山村'),\n",
       " ('長野県', '南佐久郡川上村'),\n",
       " ('長野県', '南佐久郡南相木村'),\n",
       " ('長野県', '南佐久郡北相木村'),\n",
       " ('長野県', '北佐久郡御代田町'),\n",
       " ('長野県', '北佐久郡立科町'),\n",
       " ('長野県', '小県郡長和町'),\n",
       " ('長野県', '諏訪郡原村'),\n",
       " ('長野県', '上伊那郡箕輪町'),\n",
       " ('長野県', '上伊那郡南箕輪村'),\n",
       " ('長野県', '上伊那郡宮田村'),\n",
       " ('長野県', '下伊那郡高森町'),\n",
       " ('長野県', '下伊那郡阿南町'),\n",
       " ('長野県', '下伊那郡平谷村'),\n",
       " ('長野県', '下伊那郡根羽村'),\n",
       " ('長野県', '下伊那郡売木村'),\n",
       " ('長野県', '下伊那郡天龍村'),\n",
       " ('長野県', '下伊那郡泰阜村'),\n",
       " ('長野県', '下伊那郡喬木村'),\n",
       " ('長野県', '下伊那郡豊丘村'),\n",
       " ('長野県', '下伊那郡大鹿村'),\n",
       " ('長野県', '木曽郡木祖村'),\n",
       " ('長野県', '木曽郡王滝村'),\n",
       " ('長野県', '木曽郡大桑村'),\n",
       " ('長野県', '木曽郡木曽町'),\n",
       " ('長野県', '東筑摩郡麻績村'),\n",
       " ('長野県', '東筑摩郡生坂村'),\n",
       " ('長野県', '東筑摩郡山形村'),\n",
       " ('長野県', '北安曇郡松川村'),\n",
       " ('長野県', '上水内郡信濃町'),\n",
       " ('長野県', '上水内郡飯綱町'),\n",
       " ('長野県', '下水内郡栄村'),\n",
       " ('岐阜県', '羽島郡笠松町'),\n",
       " ('岐阜県', '安八郡輪之内町'),\n",
       " ('岐阜県', '本巣郡北方町'),\n",
       " ('岐阜県', '加茂郡坂祝町'),\n",
       " ('岐阜県', '加茂郡富加町'),\n",
       " ('岐阜県', '加茂郡川辺町'),\n",
       " ('岐阜県', '加茂郡七宗町'),\n",
       " ('岐阜県', '加茂郡東白川村'),\n",
       " ('岐阜県', '可児郡御嵩町'),\n",
       " ('静岡県', '賀茂郡東伊豆町'),\n",
       " ('静岡県', '賀茂郡河津町'),\n",
       " ('静岡県', '賀茂郡西伊豆町'),\n",
       " ('静岡県', '榛原郡川根本町'),\n",
       " ('愛知県', '丹羽郡大口町'),\n",
       " ('愛知県', '海部郡飛島村'),\n",
       " ('愛知県', '知多郡美浜町'),\n",
       " ('愛知県', '北設楽郡豊根村'),\n",
       " ('三重県', '熊野市'),\n",
       " ('三重県', '桑名郡木曽岬町'),\n",
       " ('三重県', '多気郡多気町'),\n",
       " ('三重県', '多気郡大台町'),\n",
       " ('滋賀県', '犬上郡甲良町'),\n",
       " ('京都府', '相楽郡笠置町'),\n",
       " ('京都府', '相楽郡和束町'),\n",
       " ('京都府', '相楽郡南山城村'),\n",
       " ('京都府', '船井郡京丹波町'),\n",
       " ('京都府', '与謝郡伊根町'),\n",
       " ('大阪府', '豊能郡豊能町'),\n",
       " ('大阪府', '豊能郡能勢町'),\n",
       " ('大阪府', '泉南郡田尻町'),\n",
       " ('大阪府', '南河内郡千早赤阪村'),\n",
       " ('兵庫県', '多可郡多可町'),\n",
       " ('兵庫県', '揖保郡太子町'),\n",
       " ('兵庫県', '佐用郡佐用町'),\n",
       " ('兵庫県', '美方郡香美町'),\n",
       " ('兵庫県', '美方郡新温泉町'),\n",
       " ('奈良県', '山辺郡山添村'),\n",
       " ('奈良県', '生駒郡三郷町'),\n",
       " ('奈良県', '生駒郡安堵町'),\n",
       " ('奈良県', '宇陀郡曽爾村'),\n",
       " ('奈良県', '宇陀郡御杖村'),\n",
       " ('奈良県', '高市郡高取町'),\n",
       " ('奈良県', '北葛城郡上牧町'),\n",
       " ('奈良県', '吉野郡黒滝村'),\n",
       " ('奈良県', '吉野郡野迫川村'),\n",
       " ('奈良県', '吉野郡下北山村'),\n",
       " ('奈良県', '吉野郡東吉野村'),\n",
       " ('和歌山県', '海草郡紀美野町'),\n",
       " ('和歌山県', '日高郡印南町'),\n",
       " ('和歌山県', '東牟婁郡北山村'),\n",
       " ('鳥取県', '岩美郡岩美町'),\n",
       " ('鳥取県', '東伯郡湯梨浜町'),\n",
       " ('鳥取県', '西伯郡日吉津村'),\n",
       " ('鳥取県', '日野郡日野町'),\n",
       " ('鳥取県', '日野郡江府町'),\n",
       " ('島根県', '仁多郡奥出雲町'),\n",
       " ('島根県', '飯石郡飯南町'),\n",
       " ('島根県', '邑智郡川本町'),\n",
       " ('島根県', '邑智郡美郷町'),\n",
       " ('島根県', '鹿足郡吉賀町'),\n",
       " ('島根県', '隠岐郡知夫村'),\n",
       " ('岡山県', '瀬戸内市'),\n",
       " ('岡山県', '都窪郡早島町'),\n",
       " ('岡山県', '真庭郡新庄村'),\n",
       " ('岡山県', '苫田郡鏡野町'),\n",
       " ('岡山県', '勝田郡勝央町'),\n",
       " ('岡山県', '久米郡久米南町'),\n",
       " ('岡山県', '加賀郡吉備中央町'),\n",
       " ('広島県', '豊田郡大崎上島町'),\n",
       " ('広島県', '神石郡神石高原町'),\n",
       " ('山口県', '熊毛郡上関町'),\n",
       " ('山口県', '阿武郡阿武町'),\n",
       " ('徳島県', '勝浦郡勝浦町'),\n",
       " ('徳島県', '勝浦郡上勝町'),\n",
       " ('徳島県', '名東郡佐那河内村'),\n",
       " ('徳島県', '名西郡神山町'),\n",
       " ('香川県', '香川郡直島町'),\n",
       " ('愛媛県', '喜多郡内子町'),\n",
       " ('愛媛県', '北宇和郡松野町'),\n",
       " ('高知県', '安芸郡東洋町'),\n",
       " ('高知県', '安芸郡奈半利町'),\n",
       " ('高知県', '安芸郡田野町'),\n",
       " ('高知県', '安芸郡北川村'),\n",
       " ('高知県', '安芸郡馬路村'),\n",
       " ('高知県', '土佐郡大川村'),\n",
       " ('高知県', '吾川郡仁淀川町'),\n",
       " ('高知県', '高岡郡中土佐町'),\n",
       " ('高知県', '高岡郡檮原町'),\n",
       " ('高知県', '高岡郡津野町'),\n",
       " ('福岡県', '糟屋郡久山町'),\n",
       " ('福岡県', '鞍手郡鞍手町'),\n",
       " ('福岡県', '朝倉郡東峰村'),\n",
       " ('福岡県', '田川郡赤村'),\n",
       " ('佐賀県', '三養基郡上峰町'),\n",
       " ('佐賀県', '杵島郡大町町'),\n",
       " ('佐賀県', '藤津郡太良町'),\n",
       " ('熊本県', '玉名郡玉東町'),\n",
       " ('熊本県', '阿蘇郡産山村'),\n",
       " ('熊本県', '上益城郡御船町'),\n",
       " ('熊本県', '葦北郡津奈木町'),\n",
       " ('熊本県', '球磨郡錦町'),\n",
       " ('熊本県', '球磨郡水上村'),\n",
       " ('熊本県', '球磨郡五木村'),\n",
       " ('熊本県', '球磨郡球磨村'),\n",
       " ('宮崎県', 'えびの市'),\n",
       " ('宮崎県', '児湯郡西米良村'),\n",
       " ('宮崎県', '児湯郡木城町'),\n",
       " ('宮崎県', '東臼杵郡諸塚村'),\n",
       " ('鹿児島県', '西之表市'),\n",
       " ('鹿児島県', '鹿児島郡三島村'),\n",
       " ('鹿児島県', '鹿児島郡十島村'),\n",
       " ('鹿児島県', '姶良郡湧水町'),\n",
       " ('鹿児島県', '熊毛郡南種子町'),\n",
       " ('鹿児島県', '大島郡宇検村'),\n",
       " ('鹿児島県', '大島郡龍郷町'),\n",
       " ('鹿児島県', '大島郡伊仙町'),\n",
       " ('鹿児島県', '大島郡知名町'),\n",
       " ('沖縄県', '国頭郡大宜味村'),\n",
       " ('沖縄県', '島尻郡渡嘉敷村'),\n",
       " ('沖縄県', '島尻郡座間味村'),\n",
       " ('沖縄県', '島尻郡粟国村'),\n",
       " ('沖縄県', '島尻郡渡名喜村'),\n",
       " ('沖縄県', '島尻郡南大東村'),\n",
       " ('沖縄県', '島尻郡北大東村'),\n",
       " ('沖縄県', '島尻郡伊平屋村')]"
      ]
     },
     "execution_count": 12,
     "metadata": {},
     "output_type": "execute_result"
    }
   ],
   "source": [
    "zero_page_locations"
   ]
  },
  {
   "cell_type": "code",
   "execution_count": 13,
   "id": "2f0ec64e",
   "metadata": {},
   "outputs": [
    {
     "data": {
      "text/plain": [
       "1896"
      ]
     },
     "execution_count": 13,
     "metadata": {},
     "output_type": "execute_result"
    }
   ],
   "source": [
    "for pref, munic in zero_page_locations:\n",
    "        feat = {\n",
    "            \"type\": \"Feature\",\n",
    "            \"geometry\": {\n",
    "                \"type\": \"Point\",\n",
    "                \"coordinates\": pref_munic_coords[pref][munic]\n",
    "            },\n",
    "            \"properties\": {\n",
    "                \"group\": \"na\",\n",
    "                \"pref\": pref,\n",
    "                \"munic\": munic\n",
    "            }\n",
    "        }\n",
    "        features.append(feat)\n",
    "\n",
    "len(features)"
   ]
  },
  {
   "cell_type": "code",
   "execution_count": 14,
   "id": "62142a43",
   "metadata": {},
   "outputs": [],
   "source": [
    "assert len(features) == sum([len(x) for x in pref_munic_coords.values()])"
   ]
  },
  {
   "cell_type": "code",
   "execution_count": 15,
   "id": "80daa308",
   "metadata": {},
   "outputs": [],
   "source": [
    "geojson = {\n",
    "    \"type\": \"FeatureCollection\",\n",
    "    \"features\": features\n",
    "}\n",
    "with open(\"../../public/people.geojson\", \"w\") as fp:\n",
    "    json.dump(geojson, fp, ensure_ascii=False)"
   ]
  }
 ],
 "metadata": {
  "kernelspec": {
   "display_name": "Python 3 (ipykernel)",
   "language": "python",
   "name": "python3"
  },
  "language_info": {
   "codemirror_mode": {
    "name": "ipython",
    "version": 3
   },
   "file_extension": ".py",
   "mimetype": "text/x-python",
   "name": "python",
   "nbconvert_exporter": "python",
   "pygments_lexer": "ipython3",
   "version": "3.10.0"
  }
 },
 "nbformat": 4,
 "nbformat_minor": 5
}
