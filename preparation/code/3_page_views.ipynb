{
 "cells": [
  {
   "cell_type": "markdown",
   "id": "4e111ea3",
   "metadata": {},
   "source": [
    "# ページごとの閲覧数を取得"
   ]
  },
  {
   "cell_type": "code",
   "execution_count": 1,
   "id": "b0b277c7",
   "metadata": {},
   "outputs": [],
   "source": [
    "import json\n",
    "import pickle\n",
    "from collections import defaultdict\n",
    "\n",
    "import requests\n",
    "from tqdm.notebook import tqdm\n",
    "import pandas as pd"
   ]
  },
  {
   "cell_type": "code",
   "execution_count": 2,
   "id": "35e1f9dd",
   "metadata": {},
   "outputs": [],
   "source": [
    "def get_daily_views(page_name, start_date=\"20201201\", end_date=\"20211130\"):\n",
    "    page_name = page_name.replace(\"/\", \"%2F\")\n",
    "\n",
    "    endpoint = \"https://wikimedia.org/api/rest_v1\"\\\n",
    "                        \"/metrics/pageviews/per-article/ja.wikipedia.org/all-access/all-agents\" \\\n",
    "                        f\"/{page_name}/daily/{start_date}/{end_date}\"\n",
    "\n",
    "    res = requests.get(endpoint, headers={\"User-Agent\": \"s@89.io\"})\n",
    "    res.raise_for_status()\n",
    "\n",
    "    daily_views = {}\n",
    "    for item in res.json()[\"items\"]:\n",
    "        date = item[\"timestamp\"][:8]\n",
    "        views = item[\"views\"]\n",
    "        daily_views[date] = views\n",
    "    \n",
    "    return daily_views"
   ]
  },
  {
   "cell_type": "code",
   "execution_count": 3,
   "id": "44222a93",
   "metadata": {
    "scrolled": false
   },
   "outputs": [
    {
     "data": {
      "text/plain": [
       "{'20211101': 7533,\n",
       " '20211102': 6206,\n",
       " '20211103': 5481,\n",
       " '20211104': 6356,\n",
       " '20211105': 6461,\n",
       " '20211106': 6822,\n",
       " '20211107': 5358}"
      ]
     },
     "execution_count": 3,
     "metadata": {},
     "output_type": "execute_result"
    }
   ],
   "source": [
    "get_daily_views(\"大谷翔平\", start_date=\"20211101\", end_date=\"20211107\")"
   ]
  },
  {
   "cell_type": "code",
   "execution_count": 4,
   "id": "9a21da2f",
   "metadata": {},
   "outputs": [
    {
     "data": {
      "text/plain": [
       "{'20211103': 1, '20211106': 1}"
      ]
     },
     "execution_count": 4,
     "metadata": {},
     "output_type": "execute_result"
    }
   ],
   "source": [
    "# アクセス数がゼロの日は含まれない\n",
    "get_daily_views(\"中森三弥\", start_date=\"20211101\", end_date=\"20211107\")"
   ]
  },
  {
   "cell_type": "markdown",
   "id": "79633a76",
   "metadata": {},
   "source": [
    "---"
   ]
  },
  {
   "cell_type": "code",
   "execution_count": 5,
   "id": "1e18051c",
   "metadata": {},
   "outputs": [
    {
     "data": {
      "text/plain": [
       "16528"
      ]
     },
     "execution_count": 5,
     "metadata": {},
     "output_type": "execute_result"
    }
   ],
   "source": [
    "with open(\"../data/workspace/page_locations_clean.json\") as fp:\n",
    "    page_locations_clean = json.load(fp)\n",
    "len(page_locations_clean)"
   ]
  },
  {
   "cell_type": "code",
   "execution_count": 6,
   "id": "f7ab54d9",
   "metadata": {},
   "outputs": [],
   "source": [
    "with open(\"../data/workspace/page_views.pickle\", \"rb\") as fp:\n",
    "    page_views = pickle.load(fp)"
   ]
  },
  {
   "cell_type": "code",
   "execution_count": 7,
   "id": "cdf7c283",
   "metadata": {
    "scrolled": false
   },
   "outputs": [
    {
     "data": {
      "application/vnd.jupyter.widget-view+json": {
       "model_id": "d161f91b9fa64c668c8195f0c1a4716e",
       "version_major": 2,
       "version_minor": 0
      },
      "text/plain": [
       "  0%|          | 0/16528 [00:00<?, ?it/s]"
      ]
     },
     "metadata": {},
     "output_type": "display_data"
    }
   ],
   "source": [
    "for page, locations in tqdm(page_locations_clean.items()):\n",
    "    if page in page_views:\n",
    "        continue\n",
    "    page_views[page] = get_daily_views(page)"
   ]
  },
  {
   "cell_type": "code",
   "execution_count": 8,
   "id": "5193e6ea",
   "metadata": {
    "scrolled": true
   },
   "outputs": [
    {
     "data": {
      "text/plain": [
       "16528"
      ]
     },
     "execution_count": 8,
     "metadata": {},
     "output_type": "execute_result"
    }
   ],
   "source": [
    "len(page_views)"
   ]
  },
  {
   "cell_type": "code",
   "execution_count": 9,
   "id": "b59245df",
   "metadata": {},
   "outputs": [],
   "source": [
    "# JSONではファイルサイズが100MB以上と大きくなるため、pickleでシリアライズ\n",
    "# GitHubレポジトリへアップロードするため（100MB制限）\n",
    "with open(\"../data/workspace/page_views.pickle\", \"wb\") as fp:\n",
    "    pickle.dump(page_views, fp)"
   ]
  },
  {
   "cell_type": "markdown",
   "id": "a0564302",
   "metadata": {},
   "source": [
    "## 確認: アクセス日数"
   ]
  },
  {
   "cell_type": "code",
   "execution_count": 10,
   "id": "fce38fb8",
   "metadata": {},
   "outputs": [
    {
     "data": {
      "text/html": [
       "<div>\n",
       "<style scoped>\n",
       "    .dataframe tbody tr th:only-of-type {\n",
       "        vertical-align: middle;\n",
       "    }\n",
       "\n",
       "    .dataframe tbody tr th {\n",
       "        vertical-align: top;\n",
       "    }\n",
       "\n",
       "    .dataframe thead th {\n",
       "        text-align: right;\n",
       "    }\n",
       "</style>\n",
       "<table border=\"1\" class=\"dataframe\">\n",
       "  <thead>\n",
       "    <tr style=\"text-align: right;\">\n",
       "      <th></th>\n",
       "      <th>ページ</th>\n",
       "      <th>view日数</th>\n",
       "    </tr>\n",
       "  </thead>\n",
       "  <tbody>\n",
       "    <tr>\n",
       "      <th>5262</th>\n",
       "      <td>天野将平</td>\n",
       "      <td>79</td>\n",
       "    </tr>\n",
       "    <tr>\n",
       "      <th>4809</th>\n",
       "      <td>大井成元_(サッカー)</td>\n",
       "      <td>96</td>\n",
       "    </tr>\n",
       "    <tr>\n",
       "      <th>11159</th>\n",
       "      <td>清水達也_(野球)</td>\n",
       "      <td>99</td>\n",
       "    </tr>\n",
       "    <tr>\n",
       "      <th>1603</th>\n",
       "      <td>中島愛_(声優)</td>\n",
       "      <td>170</td>\n",
       "    </tr>\n",
       "    <tr>\n",
       "      <th>1810</th>\n",
       "      <td>中森三弥</td>\n",
       "      <td>170</td>\n",
       "    </tr>\n",
       "    <tr>\n",
       "      <th>...</th>\n",
       "      <td>...</td>\n",
       "      <td>...</td>\n",
       "    </tr>\n",
       "    <tr>\n",
       "      <th>6091</th>\n",
       "      <td>小林浩美</td>\n",
       "      <td>365</td>\n",
       "    </tr>\n",
       "    <tr>\n",
       "      <th>6092</th>\n",
       "      <td>小林涼</td>\n",
       "      <td>365</td>\n",
       "    </tr>\n",
       "    <tr>\n",
       "      <th>6094</th>\n",
       "      <td>小林珠維</td>\n",
       "      <td>365</td>\n",
       "    </tr>\n",
       "    <tr>\n",
       "      <th>6096</th>\n",
       "      <td>小林直己</td>\n",
       "      <td>365</td>\n",
       "    </tr>\n",
       "    <tr>\n",
       "      <th>16527</th>\n",
       "      <td>［Alexandros］</td>\n",
       "      <td>365</td>\n",
       "    </tr>\n",
       "  </tbody>\n",
       "</table>\n",
       "<p>16528 rows × 2 columns</p>\n",
       "</div>"
      ],
      "text/plain": [
       "                ページ  view日数\n",
       "5262           天野将平      79\n",
       "4809    大井成元_(サッカー)      96\n",
       "11159     清水達也_(野球)      99\n",
       "1603       中島愛_(声優)     170\n",
       "1810           中森三弥     170\n",
       "...             ...     ...\n",
       "6091           小林浩美     365\n",
       "6092            小林涼     365\n",
       "6094           小林珠維     365\n",
       "6096           小林直己     365\n",
       "16527  ［Alexandros］     365\n",
       "\n",
       "[16528 rows x 2 columns]"
      ]
     },
     "execution_count": 10,
     "metadata": {},
     "output_type": "execute_result"
    }
   ],
   "source": [
    "df_count = pd.DataFrame([(k, len(v)) for k, v in page_views.items()], columns=[\"ページ\", \"view日数\"]).sort_values(\"view日数\")\n",
    "df_count"
   ]
  },
  {
   "cell_type": "markdown",
   "id": "6638aec7",
   "metadata": {},
   "source": [
    "### 「アクセスのない日」が存在するケース\n",
    "\n",
    "- 誰もアクセスしなかった\n",
    "- そのときにまだページが存在しなかった\n",
    "- そのページがのちに削除された、移動（リネーム）された"
   ]
  },
  {
   "cell_type": "code",
   "execution_count": 11,
   "id": "52228724",
   "metadata": {},
   "outputs": [
    {
     "data": {
      "text/html": [
       "<div>\n",
       "<style scoped>\n",
       "    .dataframe tbody tr th:only-of-type {\n",
       "        vertical-align: middle;\n",
       "    }\n",
       "\n",
       "    .dataframe tbody tr th {\n",
       "        vertical-align: top;\n",
       "    }\n",
       "\n",
       "    .dataframe thead th {\n",
       "        text-align: right;\n",
       "    }\n",
       "</style>\n",
       "<table border=\"1\" class=\"dataframe\">\n",
       "  <thead>\n",
       "    <tr style=\"text-align: right;\">\n",
       "      <th></th>\n",
       "      <th>ページ</th>\n",
       "      <th>view日数</th>\n",
       "    </tr>\n",
       "  </thead>\n",
       "  <tbody>\n",
       "    <tr>\n",
       "      <th>5262</th>\n",
       "      <td>天野将平</td>\n",
       "      <td>79</td>\n",
       "    </tr>\n",
       "    <tr>\n",
       "      <th>4809</th>\n",
       "      <td>大井成元_(サッカー)</td>\n",
       "      <td>96</td>\n",
       "    </tr>\n",
       "    <tr>\n",
       "      <th>11159</th>\n",
       "      <td>清水達也_(野球)</td>\n",
       "      <td>99</td>\n",
       "    </tr>\n",
       "    <tr>\n",
       "      <th>1603</th>\n",
       "      <td>中島愛_(声優)</td>\n",
       "      <td>170</td>\n",
       "    </tr>\n",
       "    <tr>\n",
       "      <th>1810</th>\n",
       "      <td>中森三弥</td>\n",
       "      <td>170</td>\n",
       "    </tr>\n",
       "    <tr>\n",
       "      <th>...</th>\n",
       "      <td>...</td>\n",
       "      <td>...</td>\n",
       "    </tr>\n",
       "    <tr>\n",
       "      <th>5838</th>\n",
       "      <td>小倉順平</td>\n",
       "      <td>364</td>\n",
       "    </tr>\n",
       "    <tr>\n",
       "      <th>2418</th>\n",
       "      <td>仲摩純平</td>\n",
       "      <td>364</td>\n",
       "    </tr>\n",
       "    <tr>\n",
       "      <th>1740</th>\n",
       "      <td>中村昌秀</td>\n",
       "      <td>364</td>\n",
       "    </tr>\n",
       "    <tr>\n",
       "      <th>11891</th>\n",
       "      <td>田向泰輝</td>\n",
       "      <td>364</td>\n",
       "    </tr>\n",
       "    <tr>\n",
       "      <th>2822</th>\n",
       "      <td>佐藤嗣崇</td>\n",
       "      <td>364</td>\n",
       "    </tr>\n",
       "  </tbody>\n",
       "</table>\n",
       "<p>3374 rows × 2 columns</p>\n",
       "</div>"
      ],
      "text/plain": [
       "               ページ  view日数\n",
       "5262          天野将平      79\n",
       "4809   大井成元_(サッカー)      96\n",
       "11159    清水達也_(野球)      99\n",
       "1603      中島愛_(声優)     170\n",
       "1810          中森三弥     170\n",
       "...            ...     ...\n",
       "5838          小倉順平     364\n",
       "2418          仲摩純平     364\n",
       "1740          中村昌秀     364\n",
       "11891         田向泰輝     364\n",
       "2822          佐藤嗣崇     364\n",
       "\n",
       "[3374 rows x 2 columns]"
      ]
     },
     "execution_count": 11,
     "metadata": {},
     "output_type": "execute_result"
    }
   ],
   "source": [
    "df_count.query(\"view日数 < 365\")"
   ]
  },
  {
   "cell_type": "code",
   "execution_count": 12,
   "id": "22e83411",
   "metadata": {},
   "outputs": [
    {
     "name": "stdout",
     "output_type": "stream",
     "text": [
      "「アクセスのない日」が存在するページ: 全体の20.4%\n"
     ]
    }
   ],
   "source": [
    "print(\n",
    "    \"「アクセスのない日」が存在するページ: 全体の\" +  \\\n",
    "    f\"\"\"{df_count.query(\"view日数 < 365\").shape[0] / df_count.shape[0]:.1%}\"\"\"\n",
    ")"
   ]
  },
  {
   "cell_type": "code",
   "execution_count": 13,
   "id": "b73129c3",
   "metadata": {
    "scrolled": false
   },
   "outputs": [
    {
     "data": {
      "text/html": [
       "<div>\n",
       "<style scoped>\n",
       "    .dataframe tbody tr th:only-of-type {\n",
       "        vertical-align: middle;\n",
       "    }\n",
       "\n",
       "    .dataframe tbody tr th {\n",
       "        vertical-align: top;\n",
       "    }\n",
       "\n",
       "    .dataframe thead th {\n",
       "        text-align: right;\n",
       "    }\n",
       "</style>\n",
       "<table border=\"1\" class=\"dataframe\">\n",
       "  <thead>\n",
       "    <tr style=\"text-align: right;\">\n",
       "      <th></th>\n",
       "      <th>view日数</th>\n",
       "      <th>該当ページ数</th>\n",
       "    </tr>\n",
       "  </thead>\n",
       "  <tbody>\n",
       "    <tr>\n",
       "      <th>135</th>\n",
       "      <td>365</td>\n",
       "      <td>13154</td>\n",
       "    </tr>\n",
       "    <tr>\n",
       "      <th>134</th>\n",
       "      <td>364</td>\n",
       "      <td>626</td>\n",
       "    </tr>\n",
       "    <tr>\n",
       "      <th>133</th>\n",
       "      <td>363</td>\n",
       "      <td>334</td>\n",
       "    </tr>\n",
       "    <tr>\n",
       "      <th>132</th>\n",
       "      <td>362</td>\n",
       "      <td>220</td>\n",
       "    </tr>\n",
       "    <tr>\n",
       "      <th>131</th>\n",
       "      <td>361</td>\n",
       "      <td>186</td>\n",
       "    </tr>\n",
       "    <tr>\n",
       "      <th>...</th>\n",
       "      <td>...</td>\n",
       "      <td>...</td>\n",
       "    </tr>\n",
       "    <tr>\n",
       "      <th>30</th>\n",
       "      <td>256</td>\n",
       "      <td>1</td>\n",
       "    </tr>\n",
       "    <tr>\n",
       "      <th>29</th>\n",
       "      <td>255</td>\n",
       "      <td>1</td>\n",
       "    </tr>\n",
       "    <tr>\n",
       "      <th>26</th>\n",
       "      <td>252</td>\n",
       "      <td>1</td>\n",
       "    </tr>\n",
       "    <tr>\n",
       "      <th>24</th>\n",
       "      <td>250</td>\n",
       "      <td>1</td>\n",
       "    </tr>\n",
       "    <tr>\n",
       "      <th>0</th>\n",
       "      <td>79</td>\n",
       "      <td>1</td>\n",
       "    </tr>\n",
       "  </tbody>\n",
       "</table>\n",
       "<p>136 rows × 2 columns</p>\n",
       "</div>"
      ],
      "text/plain": [
       "     view日数  該当ページ数\n",
       "135     365   13154\n",
       "134     364     626\n",
       "133     363     334\n",
       "132     362     220\n",
       "131     361     186\n",
       "..      ...     ...\n",
       "30      256       1\n",
       "29      255       1\n",
       "26      252       1\n",
       "24      250       1\n",
       "0        79       1\n",
       "\n",
       "[136 rows x 2 columns]"
      ]
     },
     "execution_count": 13,
     "metadata": {},
     "output_type": "execute_result"
    }
   ],
   "source": [
    "df_count.groupby(\"view日数\").count()\\\n",
    "    .reset_index().rename(columns={\"ページ\": \"該当ページ数\"})\\\n",
    "    .sort_values(\"該当ページ数\", ascending=False)"
   ]
  },
  {
   "cell_type": "markdown",
   "id": "c55d24c2",
   "metadata": {},
   "source": [
    "## 確認: view数"
   ]
  },
  {
   "cell_type": "code",
   "execution_count": 14,
   "id": "e387315c",
   "metadata": {},
   "outputs": [],
   "source": [
    "import matplotlib.pyplot as plt\n",
    "plt.style.use('fivethirtyeight')"
   ]
  },
  {
   "cell_type": "code",
   "execution_count": 15,
   "id": "2892312f",
   "metadata": {},
   "outputs": [],
   "source": [
    "def get_location(page):\n",
    "    locs = page_locations_clean[page]\n",
    "    return \",\".join([p+k for p, k in locs])"
   ]
  },
  {
   "cell_type": "code",
   "execution_count": 16,
   "id": "a30f492c",
   "metadata": {},
   "outputs": [
    {
     "data": {
      "text/html": [
       "<div>\n",
       "<style scoped>\n",
       "    .dataframe tbody tr th:only-of-type {\n",
       "        vertical-align: middle;\n",
       "    }\n",
       "\n",
       "    .dataframe tbody tr th {\n",
       "        vertical-align: top;\n",
       "    }\n",
       "\n",
       "    .dataframe thead th {\n",
       "        text-align: right;\n",
       "    }\n",
       "</style>\n",
       "<table border=\"1\" class=\"dataframe\">\n",
       "  <thead>\n",
       "    <tr style=\"text-align: right;\">\n",
       "      <th></th>\n",
       "      <th>page</th>\n",
       "      <th>location</th>\n",
       "      <th>view</th>\n",
       "    </tr>\n",
       "  </thead>\n",
       "  <tbody>\n",
       "    <tr>\n",
       "      <th>2020-12-01</th>\n",
       "      <td>%22brother%22YASSHI</td>\n",
       "      <td>京都府宇治市</td>\n",
       "      <td>28</td>\n",
       "    </tr>\n",
       "    <tr>\n",
       "      <th>2020-12-02</th>\n",
       "      <td>%22brother%22YASSHI</td>\n",
       "      <td>京都府宇治市</td>\n",
       "      <td>49</td>\n",
       "    </tr>\n",
       "    <tr>\n",
       "      <th>2020-12-03</th>\n",
       "      <td>%22brother%22YASSHI</td>\n",
       "      <td>京都府宇治市</td>\n",
       "      <td>35</td>\n",
       "    </tr>\n",
       "    <tr>\n",
       "      <th>2020-12-04</th>\n",
       "      <td>%22brother%22YASSHI</td>\n",
       "      <td>京都府宇治市</td>\n",
       "      <td>33</td>\n",
       "    </tr>\n",
       "    <tr>\n",
       "      <th>2020-12-05</th>\n",
       "      <td>%22brother%22YASSHI</td>\n",
       "      <td>京都府宇治市</td>\n",
       "      <td>44</td>\n",
       "    </tr>\n",
       "    <tr>\n",
       "      <th>...</th>\n",
       "      <td>...</td>\n",
       "      <td>...</td>\n",
       "      <td>...</td>\n",
       "    </tr>\n",
       "    <tr>\n",
       "      <th>2021-11-26</th>\n",
       "      <td>［Alexandros］</td>\n",
       "      <td>愛知県日進市</td>\n",
       "      <td>757</td>\n",
       "    </tr>\n",
       "    <tr>\n",
       "      <th>2021-11-27</th>\n",
       "      <td>［Alexandros］</td>\n",
       "      <td>愛知県日進市</td>\n",
       "      <td>894</td>\n",
       "    </tr>\n",
       "    <tr>\n",
       "      <th>2021-11-28</th>\n",
       "      <td>［Alexandros］</td>\n",
       "      <td>愛知県日進市</td>\n",
       "      <td>1147</td>\n",
       "    </tr>\n",
       "    <tr>\n",
       "      <th>2021-11-29</th>\n",
       "      <td>［Alexandros］</td>\n",
       "      <td>愛知県日進市</td>\n",
       "      <td>1067</td>\n",
       "    </tr>\n",
       "    <tr>\n",
       "      <th>2021-11-30</th>\n",
       "      <td>［Alexandros］</td>\n",
       "      <td>愛知県日進市</td>\n",
       "      <td>774</td>\n",
       "    </tr>\n",
       "  </tbody>\n",
       "</table>\n",
       "<p>5975741 rows × 3 columns</p>\n",
       "</div>"
      ],
      "text/plain": [
       "                           page location  view\n",
       "2020-12-01  %22brother%22YASSHI   京都府宇治市    28\n",
       "2020-12-02  %22brother%22YASSHI   京都府宇治市    49\n",
       "2020-12-03  %22brother%22YASSHI   京都府宇治市    35\n",
       "2020-12-04  %22brother%22YASSHI   京都府宇治市    33\n",
       "2020-12-05  %22brother%22YASSHI   京都府宇治市    44\n",
       "...                         ...      ...   ...\n",
       "2021-11-26         ［Alexandros］   愛知県日進市   757\n",
       "2021-11-27         ［Alexandros］   愛知県日進市   894\n",
       "2021-11-28         ［Alexandros］   愛知県日進市  1147\n",
       "2021-11-29         ［Alexandros］   愛知県日進市  1067\n",
       "2021-11-30         ［Alexandros］   愛知県日進市   774\n",
       "\n",
       "[5975741 rows x 3 columns]"
      ]
     },
     "execution_count": 16,
     "metadata": {},
     "output_type": "execute_result"
    }
   ],
   "source": [
    "data = []\n",
    "index = []\n",
    "for page, views in page_views.items():\n",
    "    location = get_location(page)\n",
    "    for date, view in views.items():\n",
    "        index.append(date)\n",
    "        data.append( (page, location, view) )\n",
    "\n",
    "df_views = pd.DataFrame(data, index, columns=[\"page\", \"location\", \"view\"])\n",
    "df_views.index = pd.to_datetime(df_views.index)\n",
    "df_views"
   ]
  },
  {
   "cell_type": "markdown",
   "id": "6aba11f2",
   "metadata": {},
   "source": [
    "### 日別"
   ]
  },
  {
   "cell_type": "code",
   "execution_count": 17,
   "id": "1d8c897b",
   "metadata": {
    "scrolled": true
   },
   "outputs": [
    {
     "data": {
      "image/png": "[encoded data removed]",
      "text/plain": [
       "<Figure size 432x288 with 1 Axes>"
      ]
     },
     "metadata": {},
     "output_type": "display_data"
    }
   ],
   "source": [
    "df_views[[\"view\"]].plot.hist(log=True);"
   ]
  },
  {
   "cell_type": "code",
   "execution_count": 18,
   "id": "9a647de0",
   "metadata": {},
   "outputs": [
    {
     "data": {
      "text/html": [
       "<div>\n",
       "<style scoped>\n",
       "    .dataframe tbody tr th:only-of-type {\n",
       "        vertical-align: middle;\n",
       "    }\n",
       "\n",
       "    .dataframe tbody tr th {\n",
       "        vertical-align: top;\n",
       "    }\n",
       "\n",
       "    .dataframe thead th {\n",
       "        text-align: right;\n",
       "    }\n",
       "</style>\n",
       "<table border=\"1\" class=\"dataframe\">\n",
       "  <thead>\n",
       "    <tr style=\"text-align: right;\">\n",
       "      <th></th>\n",
       "      <th>page</th>\n",
       "      <th>location</th>\n",
       "      <th>view</th>\n",
       "    </tr>\n",
       "  </thead>\n",
       "  <tbody>\n",
       "    <tr>\n",
       "      <th>2021-05-18</th>\n",
       "      <td>田村正和</td>\n",
       "      <td>東京都世田谷区</td>\n",
       "      <td>1358099</td>\n",
       "    </tr>\n",
       "    <tr>\n",
       "      <th>2021-09-29</th>\n",
       "      <td>岸田文雄</td>\n",
       "      <td>東京都渋谷区</td>\n",
       "      <td>1106389</td>\n",
       "    </tr>\n",
       "    <tr>\n",
       "      <th>2021-08-19</th>\n",
       "      <td>千葉真一</td>\n",
       "      <td>福岡県福岡市博多区</td>\n",
       "      <td>931849</td>\n",
       "    </tr>\n",
       "    <tr>\n",
       "      <th>2021-04-02</th>\n",
       "      <td>夏目三久</td>\n",
       "      <td>大阪府箕面市</td>\n",
       "      <td>893724</td>\n",
       "    </tr>\n",
       "    <tr>\n",
       "      <th>2021-05-19</th>\n",
       "      <td>新垣結衣</td>\n",
       "      <td>沖縄県那覇市</td>\n",
       "      <td>782043</td>\n",
       "    </tr>\n",
       "    <tr>\n",
       "      <th>2021-05-19</th>\n",
       "      <td>星野源</td>\n",
       "      <td>埼玉県川口市</td>\n",
       "      <td>677074</td>\n",
       "    </tr>\n",
       "    <tr>\n",
       "      <th>2021-05-19</th>\n",
       "      <td>田村正和</td>\n",
       "      <td>東京都世田谷区</td>\n",
       "      <td>667718</td>\n",
       "    </tr>\n",
       "    <tr>\n",
       "      <th>2021-05-18</th>\n",
       "      <td>田村亮_(俳優)</td>\n",
       "      <td>東京都世田谷区</td>\n",
       "      <td>552697</td>\n",
       "    </tr>\n",
       "    <tr>\n",
       "      <th>2021-04-03</th>\n",
       "      <td>夏目三久</td>\n",
       "      <td>大阪府箕面市</td>\n",
       "      <td>541181</td>\n",
       "    </tr>\n",
       "    <tr>\n",
       "      <th>2020-12-28</th>\n",
       "      <td>今井ゆうぞう</td>\n",
       "      <td>徳島県三好市</td>\n",
       "      <td>530280</td>\n",
       "    </tr>\n",
       "  </tbody>\n",
       "</table>\n",
       "</div>"
      ],
      "text/plain": [
       "                page   location     view\n",
       "2021-05-18      田村正和    東京都世田谷区  1358099\n",
       "2021-09-29      岸田文雄     東京都渋谷区  1106389\n",
       "2021-08-19      千葉真一  福岡県福岡市博多区   931849\n",
       "2021-04-02      夏目三久     大阪府箕面市   893724\n",
       "2021-05-19      新垣結衣     沖縄県那覇市   782043\n",
       "2021-05-19       星野源     埼玉県川口市   677074\n",
       "2021-05-19      田村正和    東京都世田谷区   667718\n",
       "2021-05-18  田村亮_(俳優)    東京都世田谷区   552697\n",
       "2021-04-03      夏目三久     大阪府箕面市   541181\n",
       "2020-12-28    今井ゆうぞう     徳島県三好市   530280"
      ]
     },
     "execution_count": 18,
     "metadata": {},
     "output_type": "execute_result"
    }
   ],
   "source": [
    "df_views.sort_values(\"view\", ascending=False).head(10)"
   ]
  },
  {
   "cell_type": "markdown",
   "id": "8cca71d2",
   "metadata": {},
   "source": [
    "cf. [Life After Death on Wikipedia](https://pudding.cool/2018/08/wiki-death/)"
   ]
  },
  {
   "cell_type": "code",
   "execution_count": 19,
   "id": "81953c73",
   "metadata": {},
   "outputs": [
    {
     "data": {
      "image/png": "[encoded data removed]",
      "text/plain": [
       "<Figure size 432x288 with 1 Axes>"
      ]
     },
     "metadata": {},
     "output_type": "display_data"
    }
   ],
   "source": [
    "df_views[df_views[\"page\"] == \"田村正和\"].plot();"
   ]
  },
  {
   "cell_type": "code",
   "execution_count": 20,
   "id": "3b866aaa",
   "metadata": {},
   "outputs": [
    {
     "data": {
      "image/png": "[encoded data removed]",
      "text/plain": [
       "<Figure size 432x288 with 1 Axes>"
      ]
     },
     "metadata": {},
     "output_type": "display_data"
    }
   ],
   "source": [
    "df_views[df_views[\"page\"] == \"岸田文雄\"].plot();"
   ]
  },
  {
   "cell_type": "code",
   "execution_count": 21,
   "id": "dd60eeb0",
   "metadata": {},
   "outputs": [
    {
     "data": {
      "image/png": "[encoded data removed]",
      "text/plain": [
       "<Figure size 432x288 with 1 Axes>"
      ]
     },
     "metadata": {},
     "output_type": "display_data"
    }
   ],
   "source": [
    "df_views[df_views[\"page\"] == \"夏目三久\"].plot();"
   ]
  },
  {
   "cell_type": "markdown",
   "id": "e3f5e041",
   "metadata": {},
   "source": [
    "### 年間合計"
   ]
  },
  {
   "cell_type": "code",
   "execution_count": 22,
   "id": "af00785c",
   "metadata": {},
   "outputs": [
    {
     "data": {
      "text/html": [
       "<div>\n",
       "<style scoped>\n",
       "    .dataframe tbody tr th:only-of-type {\n",
       "        vertical-align: middle;\n",
       "    }\n",
       "\n",
       "    .dataframe tbody tr th {\n",
       "        vertical-align: top;\n",
       "    }\n",
       "\n",
       "    .dataframe thead th {\n",
       "        text-align: right;\n",
       "    }\n",
       "</style>\n",
       "<table border=\"1\" class=\"dataframe\">\n",
       "  <thead>\n",
       "    <tr style=\"text-align: right;\">\n",
       "      <th></th>\n",
       "      <th>page</th>\n",
       "      <th>view</th>\n",
       "      <th>location</th>\n",
       "    </tr>\n",
       "  </thead>\n",
       "  <tbody>\n",
       "    <tr>\n",
       "      <th>0</th>\n",
       "      <td>%22brother%22YASSHI</td>\n",
       "      <td>20096</td>\n",
       "      <td>京都府宇治市</td>\n",
       "    </tr>\n",
       "    <tr>\n",
       "      <th>1</th>\n",
       "      <td>%22黒天使%22沼澤邪鬼</td>\n",
       "      <td>11849</td>\n",
       "      <td>埼玉県本庄市</td>\n",
       "    </tr>\n",
       "    <tr>\n",
       "      <th>2</th>\n",
       "      <td>1、2の大心</td>\n",
       "      <td>1659</td>\n",
       "      <td>沖縄県糸満市</td>\n",
       "    </tr>\n",
       "    <tr>\n",
       "      <th>3</th>\n",
       "      <td>8utterfly</td>\n",
       "      <td>4993</td>\n",
       "      <td>福岡県福岡市中央区</td>\n",
       "    </tr>\n",
       "    <tr>\n",
       "      <th>4</th>\n",
       "      <td>9mm_Parabellum_Bullet</td>\n",
       "      <td>110854</td>\n",
       "      <td>山形県鶴岡市,茨城県北茨城市,長野県上伊那郡辰野町</td>\n",
       "    </tr>\n",
       "    <tr>\n",
       "      <th>...</th>\n",
       "      <td>...</td>\n",
       "      <td>...</td>\n",
       "      <td>...</td>\n",
       "    </tr>\n",
       "    <tr>\n",
       "      <th>16523</th>\n",
       "      <td>龍田直樹</td>\n",
       "      <td>148688</td>\n",
       "      <td>和歌山県岩出市</td>\n",
       "    </tr>\n",
       "    <tr>\n",
       "      <th>16524</th>\n",
       "      <td>龍真咲</td>\n",
       "      <td>90001</td>\n",
       "      <td>大阪府東大阪市</td>\n",
       "    </tr>\n",
       "    <tr>\n",
       "      <th>16525</th>\n",
       "      <td>龍虎勢朋</td>\n",
       "      <td>58508</td>\n",
       "      <td>東京都大田区</td>\n",
       "    </tr>\n",
       "    <tr>\n",
       "      <th>16526</th>\n",
       "      <td>﨑山龍男</td>\n",
       "      <td>55765</td>\n",
       "      <td>栃木県佐野市</td>\n",
       "    </tr>\n",
       "    <tr>\n",
       "      <th>16527</th>\n",
       "      <td>［Alexandros］</td>\n",
       "      <td>1296691</td>\n",
       "      <td>愛知県日進市</td>\n",
       "    </tr>\n",
       "  </tbody>\n",
       "</table>\n",
       "<p>16528 rows × 3 columns</p>\n",
       "</div>"
      ],
      "text/plain": [
       "                        page     view                   location\n",
       "0        %22brother%22YASSHI    20096                     京都府宇治市\n",
       "1              %22黒天使%22沼澤邪鬼    11849                     埼玉県本庄市\n",
       "2                     1、2の大心     1659                     沖縄県糸満市\n",
       "3                  8utterfly     4993                  福岡県福岡市中央区\n",
       "4      9mm_Parabellum_Bullet   110854  山形県鶴岡市,茨城県北茨城市,長野県上伊那郡辰野町\n",
       "...                      ...      ...                        ...\n",
       "16523                   龍田直樹   148688                    和歌山県岩出市\n",
       "16524                    龍真咲    90001                    大阪府東大阪市\n",
       "16525                   龍虎勢朋    58508                     東京都大田区\n",
       "16526                   﨑山龍男    55765                     栃木県佐野市\n",
       "16527           ［Alexandros］  1296691                     愛知県日進市\n",
       "\n",
       "[16528 rows x 3 columns]"
      ]
     },
     "execution_count": 22,
     "metadata": {},
     "output_type": "execute_result"
    }
   ],
   "source": [
    "df_views_yearly = df_views.groupby(\"page\").sum().reset_index()\n",
    "df_views_yearly[\"location\"] = df_views_yearly[\"page\"].apply(get_location)\n",
    "df_views_yearly"
   ]
  },
  {
   "cell_type": "code",
   "execution_count": 23,
   "id": "6884d91e",
   "metadata": {},
   "outputs": [
    {
     "data": {
      "text/html": [
       "<div>\n",
       "<style scoped>\n",
       "    .dataframe tbody tr th:only-of-type {\n",
       "        vertical-align: middle;\n",
       "    }\n",
       "\n",
       "    .dataframe tbody tr th {\n",
       "        vertical-align: top;\n",
       "    }\n",
       "\n",
       "    .dataframe thead th {\n",
       "        text-align: right;\n",
       "    }\n",
       "</style>\n",
       "<table border=\"1\" class=\"dataframe\">\n",
       "  <thead>\n",
       "    <tr style=\"text-align: right;\">\n",
       "      <th></th>\n",
       "      <th>page</th>\n",
       "      <th>view</th>\n",
       "      <th>location</th>\n",
       "    </tr>\n",
       "  </thead>\n",
       "  <tbody>\n",
       "    <tr>\n",
       "      <th>5175</th>\n",
       "      <td>大谷翔平</td>\n",
       "      <td>4914419</td>\n",
       "      <td>岩手県奥州市</td>\n",
       "    </tr>\n",
       "    <tr>\n",
       "      <th>4733</th>\n",
       "      <td>夏目三久</td>\n",
       "      <td>4533254</td>\n",
       "      <td>大阪府箕面市</td>\n",
       "    </tr>\n",
       "    <tr>\n",
       "      <th>7173</th>\n",
       "      <td>岸田文雄</td>\n",
       "      <td>3976875</td>\n",
       "      <td>東京都渋谷区</td>\n",
       "    </tr>\n",
       "    <tr>\n",
       "      <th>15253</th>\n",
       "      <td>鈴木達央</td>\n",
       "      <td>3784710</td>\n",
       "      <td>千葉県市川市,愛知県岡崎市</td>\n",
       "    </tr>\n",
       "    <tr>\n",
       "      <th>11940</th>\n",
       "      <td>田村正和</td>\n",
       "      <td>3736385</td>\n",
       "      <td>東京都世田谷区</td>\n",
       "    </tr>\n",
       "    <tr>\n",
       "      <th>1383</th>\n",
       "      <td>上白石萌音</td>\n",
       "      <td>3656069</td>\n",
       "      <td>鹿児島県鹿児島市</td>\n",
       "    </tr>\n",
       "    <tr>\n",
       "      <th>3671</th>\n",
       "      <td>千葉真一</td>\n",
       "      <td>3266199</td>\n",
       "      <td>福岡県福岡市博多区</td>\n",
       "    </tr>\n",
       "    <tr>\n",
       "      <th>189</th>\n",
       "      <td>LiSA</td>\n",
       "      <td>3076135</td>\n",
       "      <td>岐阜県関市</td>\n",
       "    </tr>\n",
       "    <tr>\n",
       "      <th>8134</th>\n",
       "      <td>新垣結衣</td>\n",
       "      <td>3043616</td>\n",
       "      <td>沖縄県那覇市</td>\n",
       "    </tr>\n",
       "    <tr>\n",
       "      <th>8302</th>\n",
       "      <td>星野源</td>\n",
       "      <td>2882319</td>\n",
       "      <td>埼玉県川口市</td>\n",
       "    </tr>\n",
       "    <tr>\n",
       "      <th>10846</th>\n",
       "      <td>河野太郎</td>\n",
       "      <td>2764917</td>\n",
       "      <td>神奈川県平塚市</td>\n",
       "    </tr>\n",
       "    <tr>\n",
       "      <th>1168</th>\n",
       "      <td>三浦春馬</td>\n",
       "      <td>2726997</td>\n",
       "      <td>茨城県土浦市</td>\n",
       "    </tr>\n",
       "    <tr>\n",
       "      <th>8148</th>\n",
       "      <td>新庄剛志</td>\n",
       "      <td>2451647</td>\n",
       "      <td>福岡県福岡市南区,長崎県対馬市</td>\n",
       "    </tr>\n",
       "    <tr>\n",
       "      <th>13871</th>\n",
       "      <td>藤井風</td>\n",
       "      <td>2378168</td>\n",
       "      <td>岡山県浅口郡里庄町</td>\n",
       "    </tr>\n",
       "    <tr>\n",
       "      <th>1797</th>\n",
       "      <td>中条あやみ</td>\n",
       "      <td>2323629</td>\n",
       "      <td>大阪府大阪市阿倍野区</td>\n",
       "    </tr>\n",
       "    <tr>\n",
       "      <th>7985</th>\n",
       "      <td>戸田恵梨香</td>\n",
       "      <td>2318549</td>\n",
       "      <td>兵庫県神戸市灘区</td>\n",
       "    </tr>\n",
       "    <tr>\n",
       "      <th>13699</th>\n",
       "      <td>菅田将暉</td>\n",
       "      <td>2286400</td>\n",
       "      <td>大阪府箕面市</td>\n",
       "    </tr>\n",
       "    <tr>\n",
       "      <th>13047</th>\n",
       "      <td>竹内結子</td>\n",
       "      <td>2285288</td>\n",
       "      <td>埼玉県さいたま市南区</td>\n",
       "    </tr>\n",
       "    <tr>\n",
       "      <th>1382</th>\n",
       "      <td>上白石萌歌</td>\n",
       "      <td>2201374</td>\n",
       "      <td>鹿児島県鹿児島市</td>\n",
       "    </tr>\n",
       "    <tr>\n",
       "      <th>1730</th>\n",
       "      <td>中村悠一</td>\n",
       "      <td>2167971</td>\n",
       "      <td>香川県高松市</td>\n",
       "    </tr>\n",
       "  </tbody>\n",
       "</table>\n",
       "</div>"
      ],
      "text/plain": [
       "        page     view         location\n",
       "5175    大谷翔平  4914419           岩手県奥州市\n",
       "4733    夏目三久  4533254           大阪府箕面市\n",
       "7173    岸田文雄  3976875           東京都渋谷区\n",
       "15253   鈴木達央  3784710    千葉県市川市,愛知県岡崎市\n",
       "11940   田村正和  3736385          東京都世田谷区\n",
       "1383   上白石萌音  3656069         鹿児島県鹿児島市\n",
       "3671    千葉真一  3266199        福岡県福岡市博多区\n",
       "189     LiSA  3076135            岐阜県関市\n",
       "8134    新垣結衣  3043616           沖縄県那覇市\n",
       "8302     星野源  2882319           埼玉県川口市\n",
       "10846   河野太郎  2764917          神奈川県平塚市\n",
       "1168    三浦春馬  2726997           茨城県土浦市\n",
       "8148    新庄剛志  2451647  福岡県福岡市南区,長崎県対馬市\n",
       "13871    藤井風  2378168        岡山県浅口郡里庄町\n",
       "1797   中条あやみ  2323629       大阪府大阪市阿倍野区\n",
       "7985   戸田恵梨香  2318549         兵庫県神戸市灘区\n",
       "13699   菅田将暉  2286400           大阪府箕面市\n",
       "13047   竹内結子  2285288       埼玉県さいたま市南区\n",
       "1382   上白石萌歌  2201374         鹿児島県鹿児島市\n",
       "1730    中村悠一  2167971           香川県高松市"
      ]
     },
     "execution_count": 23,
     "metadata": {},
     "output_type": "execute_result"
    }
   ],
   "source": [
    "df_views_yearly.sort_values(\"view\", ascending=False).head(20)"
   ]
  },
  {
   "cell_type": "code",
   "execution_count": 24,
   "id": "287664f3",
   "metadata": {
    "scrolled": false
   },
   "outputs": [
    {
     "data": {
      "image/png": "[encoded data removed]",
      "text/plain": [
       "<Figure size 432x288 with 1 Axes>"
      ]
     },
     "metadata": {},
     "output_type": "display_data"
    }
   ],
   "source": [
    "df_views_yearly.plot.hist(log=True);"
   ]
  }
 ],
 "metadata": {
  "kernelspec": {
   "display_name": "Python 3 (ipykernel)",
   "language": "python",
   "name": "python3"
  },
  "language_info": {
   "codemirror_mode": {
    "name": "ipython",
    "version": 3
   },
   "file_extension": ".py",
   "mimetype": "text/x-python",
   "name": "python",
   "nbconvert_exporter": "python",
   "pygments_lexer": "ipython3",
   "version": "3.10.0"
  }
 },
 "nbformat": 4,
 "nbformat_minor": 5
}
