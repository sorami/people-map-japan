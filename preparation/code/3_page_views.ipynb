{
 "cells": [
  {
   "cell_type": "markdown",
   "id": "4e111ea3",
   "metadata": {},
   "source": [
    "# ページごとの閲覧数を取得"
   ]
  },
  {
   "cell_type": "code",
   "execution_count": 1,
   "id": "b0b277c7",
   "metadata": {},
   "outputs": [],
   "source": [
    "import json\n",
    "import pickle\n",
    "from collections import defaultdict\n",
    "\n",
    "import requests\n",
    "from tqdm.notebook import tqdm"
   ]
  },
  {
   "cell_type": "code",
   "execution_count": 2,
   "id": "35e1f9dd",
   "metadata": {},
   "outputs": [],
   "source": [
    "def get_daily_views(page_name, start_date=\"20201201\", end_date=\"20211130\"):\n",
    "    page_name = page_name.replace(\"/\", \"%2F\")\n",
    "\n",
    "    endpoint = \"https://wikimedia.org/api/rest_v1\"\\\n",
    "                        \"/metrics/pageviews/per-article/ja.wikipedia.org/all-access/all-agents\" \\\n",
    "                        f\"/{page_name}/daily/{start_date}/{end_date}\"\n",
    "\n",
    "    res = requests.get(endpoint, headers={\"User-Agent\": \"s@89.io\"})\n",
    "    res.raise_for_status()\n",
    "\n",
    "    daily_views = {}\n",
    "    for item in res.json()[\"items\"]:\n",
    "        date = item[\"timestamp\"][:8]\n",
    "        views = item[\"views\"]\n",
    "        daily_views[date] = views\n",
    "    \n",
    "    return daily_views"
   ]
  },
  {
   "cell_type": "code",
   "execution_count": 3,
   "id": "44222a93",
   "metadata": {
    "scrolled": false
   },
   "outputs": [
    {
     "data": {
      "text/plain": [
       "{'20211101': 7533,\n",
       " '20211102': 6206,\n",
       " '20211103': 5481,\n",
       " '20211104': 6356,\n",
       " '20211105': 6461,\n",
       " '20211106': 6822,\n",
       " '20211107': 5358}"
      ]
     },
     "execution_count": 3,
     "metadata": {},
     "output_type": "execute_result"
    }
   ],
   "source": [
    "get_daily_views(\"大谷翔平\", start_date=\"20211101\", end_date=\"20211107\")"
   ]
  },
  {
   "cell_type": "code",
   "execution_count": 4,
   "id": "9a21da2f",
   "metadata": {},
   "outputs": [
    {
     "data": {
      "text/plain": [
       "{'20211103': 1, '20211106': 1}"
      ]
     },
     "execution_count": 4,
     "metadata": {},
     "output_type": "execute_result"
    }
   ],
   "source": [
    "# アクセス数がゼロの日は含まれない\n",
    "get_daily_views(\"中森三弥\", start_date=\"20211101\", end_date=\"20211107\")"
   ]
  },
  {
   "cell_type": "markdown",
   "id": "79633a76",
   "metadata": {},
   "source": [
    "---"
   ]
  },
  {
   "cell_type": "code",
   "execution_count": 5,
   "id": "1e18051c",
   "metadata": {},
   "outputs": [
    {
     "data": {
      "text/plain": [
       "16528"
      ]
     },
     "execution_count": 5,
     "metadata": {},
     "output_type": "execute_result"
    }
   ],
   "source": [
    "with open(\"../data/workspace/page_locations_clean.json\") as fp:\n",
    "    page_locations_clean = json.load(fp)\n",
    "len(page_locations_clean)"
   ]
  },
  {
   "cell_type": "code",
   "execution_count": 6,
   "id": "f7ab54d9",
   "metadata": {},
   "outputs": [],
   "source": [
    "with open(\"../data/workspace/page_views.pickle\", \"rb\") as fp:\n",
    "    page_views = pickle.load(fp)"
   ]
  },
  {
   "cell_type": "code",
   "execution_count": 7,
   "id": "cdf7c283",
   "metadata": {
    "scrolled": false
   },
   "outputs": [
    {
     "data": {
      "application/vnd.jupyter.widget-view+json": {
       "model_id": "040c365764af4d74908f73b13bd49f5d",
       "version_major": 2,
       "version_minor": 0
      },
      "text/plain": [
       "  0%|          | 0/16528 [00:00<?, ?it/s]"
      ]
     },
     "metadata": {},
     "output_type": "display_data"
    }
   ],
   "source": [
    "for page, locations in tqdm(page_locations_clean.items()):\n",
    "    if page in page_views:\n",
    "        continue\n",
    "    page_views[page] = get_daily_views(page)"
   ]
  },
  {
   "cell_type": "code",
   "execution_count": 8,
   "id": "5193e6ea",
   "metadata": {
    "scrolled": true
   },
   "outputs": [
    {
     "data": {
      "text/plain": [
       "16528"
      ]
     },
     "execution_count": 8,
     "metadata": {},
     "output_type": "execute_result"
    }
   ],
   "source": [
    "len(page_views)"
   ]
  },
  {
   "cell_type": "code",
   "execution_count": 9,
   "id": "b59245df",
   "metadata": {},
   "outputs": [],
   "source": [
    "# JSONではファイルサイズが100MB以上と大きくなるため、pickleでシリアライズ\n",
    "# GitHubレポジトリへアップロードするため（100MB制限）\n",
    "with open(\"../data/workspace/page_views.pickle\", \"wb\") as fp:\n",
    "    pickle.dump(page_views, fp)"
   ]
  },
  {
   "cell_type": "markdown",
   "id": "a0564302",
   "metadata": {},
   "source": [
    "## 確認"
   ]
  },
  {
   "cell_type": "code",
   "execution_count": 10,
   "id": "2d91c881",
   "metadata": {},
   "outputs": [],
   "source": [
    "import pandas as pd"
   ]
  },
  {
   "cell_type": "code",
   "execution_count": 11,
   "id": "fce38fb8",
   "metadata": {},
   "outputs": [
    {
     "data": {
      "text/html": [
       "<div>\n",
       "<style scoped>\n",
       "    .dataframe tbody tr th:only-of-type {\n",
       "        vertical-align: middle;\n",
       "    }\n",
       "\n",
       "    .dataframe tbody tr th {\n",
       "        vertical-align: top;\n",
       "    }\n",
       "\n",
       "    .dataframe thead th {\n",
       "        text-align: right;\n",
       "    }\n",
       "</style>\n",
       "<table border=\"1\" class=\"dataframe\">\n",
       "  <thead>\n",
       "    <tr style=\"text-align: right;\">\n",
       "      <th></th>\n",
       "      <th>ページ</th>\n",
       "      <th>view日数</th>\n",
       "    </tr>\n",
       "  </thead>\n",
       "  <tbody>\n",
       "    <tr>\n",
       "      <th>5262</th>\n",
       "      <td>天野将平</td>\n",
       "      <td>79</td>\n",
       "    </tr>\n",
       "    <tr>\n",
       "      <th>4809</th>\n",
       "      <td>大井成元_(サッカー)</td>\n",
       "      <td>96</td>\n",
       "    </tr>\n",
       "    <tr>\n",
       "      <th>11159</th>\n",
       "      <td>清水達也_(野球)</td>\n",
       "      <td>99</td>\n",
       "    </tr>\n",
       "    <tr>\n",
       "      <th>1603</th>\n",
       "      <td>中島愛_(声優)</td>\n",
       "      <td>170</td>\n",
       "    </tr>\n",
       "    <tr>\n",
       "      <th>1810</th>\n",
       "      <td>中森三弥</td>\n",
       "      <td>170</td>\n",
       "    </tr>\n",
       "    <tr>\n",
       "      <th>...</th>\n",
       "      <td>...</td>\n",
       "      <td>...</td>\n",
       "    </tr>\n",
       "    <tr>\n",
       "      <th>6091</th>\n",
       "      <td>小林浩美</td>\n",
       "      <td>365</td>\n",
       "    </tr>\n",
       "    <tr>\n",
       "      <th>6092</th>\n",
       "      <td>小林涼</td>\n",
       "      <td>365</td>\n",
       "    </tr>\n",
       "    <tr>\n",
       "      <th>6094</th>\n",
       "      <td>小林珠維</td>\n",
       "      <td>365</td>\n",
       "    </tr>\n",
       "    <tr>\n",
       "      <th>6096</th>\n",
       "      <td>小林直己</td>\n",
       "      <td>365</td>\n",
       "    </tr>\n",
       "    <tr>\n",
       "      <th>16527</th>\n",
       "      <td>［Alexandros］</td>\n",
       "      <td>365</td>\n",
       "    </tr>\n",
       "  </tbody>\n",
       "</table>\n",
       "<p>16528 rows × 2 columns</p>\n",
       "</div>"
      ],
      "text/plain": [
       "                ページ  view日数\n",
       "5262           天野将平      79\n",
       "4809    大井成元_(サッカー)      96\n",
       "11159     清水達也_(野球)      99\n",
       "1603       中島愛_(声優)     170\n",
       "1810           中森三弥     170\n",
       "...             ...     ...\n",
       "6091           小林浩美     365\n",
       "6092            小林涼     365\n",
       "6094           小林珠維     365\n",
       "6096           小林直己     365\n",
       "16527  ［Alexandros］     365\n",
       "\n",
       "[16528 rows x 2 columns]"
      ]
     },
     "execution_count": 11,
     "metadata": {},
     "output_type": "execute_result"
    }
   ],
   "source": [
    "df_count = pd.DataFrame([(k, len(v)) for k, v in page_views.items()], columns=[\"ページ\", \"view日数\"]).sort_values(\"view日数\")\n",
    "df_count"
   ]
  },
  {
   "cell_type": "markdown",
   "id": "6638aec7",
   "metadata": {},
   "source": [
    "### 「アクセスのない日」が存在するケース\n",
    "\n",
    "- 誰もアクセスしなかった\n",
    "- そのときにまだページが存在しなかった\n",
    "- そのページがのちに削除された、移動（リネーム）された"
   ]
  },
  {
   "cell_type": "code",
   "execution_count": 12,
   "id": "52228724",
   "metadata": {},
   "outputs": [
    {
     "data": {
      "text/html": [
       "<div>\n",
       "<style scoped>\n",
       "    .dataframe tbody tr th:only-of-type {\n",
       "        vertical-align: middle;\n",
       "    }\n",
       "\n",
       "    .dataframe tbody tr th {\n",
       "        vertical-align: top;\n",
       "    }\n",
       "\n",
       "    .dataframe thead th {\n",
       "        text-align: right;\n",
       "    }\n",
       "</style>\n",
       "<table border=\"1\" class=\"dataframe\">\n",
       "  <thead>\n",
       "    <tr style=\"text-align: right;\">\n",
       "      <th></th>\n",
       "      <th>ページ</th>\n",
       "      <th>view日数</th>\n",
       "    </tr>\n",
       "  </thead>\n",
       "  <tbody>\n",
       "    <tr>\n",
       "      <th>5262</th>\n",
       "      <td>天野将平</td>\n",
       "      <td>79</td>\n",
       "    </tr>\n",
       "    <tr>\n",
       "      <th>4809</th>\n",
       "      <td>大井成元_(サッカー)</td>\n",
       "      <td>96</td>\n",
       "    </tr>\n",
       "    <tr>\n",
       "      <th>11159</th>\n",
       "      <td>清水達也_(野球)</td>\n",
       "      <td>99</td>\n",
       "    </tr>\n",
       "    <tr>\n",
       "      <th>1603</th>\n",
       "      <td>中島愛_(声優)</td>\n",
       "      <td>170</td>\n",
       "    </tr>\n",
       "    <tr>\n",
       "      <th>1810</th>\n",
       "      <td>中森三弥</td>\n",
       "      <td>170</td>\n",
       "    </tr>\n",
       "    <tr>\n",
       "      <th>...</th>\n",
       "      <td>...</td>\n",
       "      <td>...</td>\n",
       "    </tr>\n",
       "    <tr>\n",
       "      <th>5838</th>\n",
       "      <td>小倉順平</td>\n",
       "      <td>364</td>\n",
       "    </tr>\n",
       "    <tr>\n",
       "      <th>2418</th>\n",
       "      <td>仲摩純平</td>\n",
       "      <td>364</td>\n",
       "    </tr>\n",
       "    <tr>\n",
       "      <th>1740</th>\n",
       "      <td>中村昌秀</td>\n",
       "      <td>364</td>\n",
       "    </tr>\n",
       "    <tr>\n",
       "      <th>11891</th>\n",
       "      <td>田向泰輝</td>\n",
       "      <td>364</td>\n",
       "    </tr>\n",
       "    <tr>\n",
       "      <th>2822</th>\n",
       "      <td>佐藤嗣崇</td>\n",
       "      <td>364</td>\n",
       "    </tr>\n",
       "  </tbody>\n",
       "</table>\n",
       "<p>3374 rows × 2 columns</p>\n",
       "</div>"
      ],
      "text/plain": [
       "               ページ  view日数\n",
       "5262          天野将平      79\n",
       "4809   大井成元_(サッカー)      96\n",
       "11159    清水達也_(野球)      99\n",
       "1603      中島愛_(声優)     170\n",
       "1810          中森三弥     170\n",
       "...            ...     ...\n",
       "5838          小倉順平     364\n",
       "2418          仲摩純平     364\n",
       "1740          中村昌秀     364\n",
       "11891         田向泰輝     364\n",
       "2822          佐藤嗣崇     364\n",
       "\n",
       "[3374 rows x 2 columns]"
      ]
     },
     "execution_count": 12,
     "metadata": {},
     "output_type": "execute_result"
    }
   ],
   "source": [
    "df_count.query(\"view日数 < 365\")"
   ]
  },
  {
   "cell_type": "code",
   "execution_count": 13,
   "id": "22e83411",
   "metadata": {},
   "outputs": [
    {
     "name": "stdout",
     "output_type": "stream",
     "text": [
      "「アクセスのない日」が存在するページ: 全体の20.4%\n"
     ]
    }
   ],
   "source": [
    "print(\n",
    "    \"「アクセスのない日」が存在するページ: 全体の\" +  \\\n",
    "    f\"\"\"{df_count.query(\"view日数 < 365\").shape[0] / df_count.shape[0]:.1%}\"\"\"\n",
    ")"
   ]
  },
  {
   "cell_type": "code",
   "execution_count": 14,
   "id": "b73129c3",
   "metadata": {},
   "outputs": [
    {
     "data": {
      "text/html": [
       "<div>\n",
       "<style scoped>\n",
       "    .dataframe tbody tr th:only-of-type {\n",
       "        vertical-align: middle;\n",
       "    }\n",
       "\n",
       "    .dataframe tbody tr th {\n",
       "        vertical-align: top;\n",
       "    }\n",
       "\n",
       "    .dataframe thead th {\n",
       "        text-align: right;\n",
       "    }\n",
       "</style>\n",
       "<table border=\"1\" class=\"dataframe\">\n",
       "  <thead>\n",
       "    <tr style=\"text-align: right;\">\n",
       "      <th></th>\n",
       "      <th>view日数</th>\n",
       "      <th>該当ページ数</th>\n",
       "    </tr>\n",
       "  </thead>\n",
       "  <tbody>\n",
       "    <tr>\n",
       "      <th>135</th>\n",
       "      <td>365</td>\n",
       "      <td>13154</td>\n",
       "    </tr>\n",
       "    <tr>\n",
       "      <th>134</th>\n",
       "      <td>364</td>\n",
       "      <td>626</td>\n",
       "    </tr>\n",
       "    <tr>\n",
       "      <th>133</th>\n",
       "      <td>363</td>\n",
       "      <td>334</td>\n",
       "    </tr>\n",
       "    <tr>\n",
       "      <th>132</th>\n",
       "      <td>362</td>\n",
       "      <td>220</td>\n",
       "    </tr>\n",
       "    <tr>\n",
       "      <th>131</th>\n",
       "      <td>361</td>\n",
       "      <td>186</td>\n",
       "    </tr>\n",
       "    <tr>\n",
       "      <th>...</th>\n",
       "      <td>...</td>\n",
       "      <td>...</td>\n",
       "    </tr>\n",
       "    <tr>\n",
       "      <th>30</th>\n",
       "      <td>256</td>\n",
       "      <td>1</td>\n",
       "    </tr>\n",
       "    <tr>\n",
       "      <th>29</th>\n",
       "      <td>255</td>\n",
       "      <td>1</td>\n",
       "    </tr>\n",
       "    <tr>\n",
       "      <th>26</th>\n",
       "      <td>252</td>\n",
       "      <td>1</td>\n",
       "    </tr>\n",
       "    <tr>\n",
       "      <th>24</th>\n",
       "      <td>250</td>\n",
       "      <td>1</td>\n",
       "    </tr>\n",
       "    <tr>\n",
       "      <th>0</th>\n",
       "      <td>79</td>\n",
       "      <td>1</td>\n",
       "    </tr>\n",
       "  </tbody>\n",
       "</table>\n",
       "<p>136 rows × 2 columns</p>\n",
       "</div>"
      ],
      "text/plain": [
       "     view日数  該当ページ数\n",
       "135     365   13154\n",
       "134     364     626\n",
       "133     363     334\n",
       "132     362     220\n",
       "131     361     186\n",
       "..      ...     ...\n",
       "30      256       1\n",
       "29      255       1\n",
       "26      252       1\n",
       "24      250       1\n",
       "0        79       1\n",
       "\n",
       "[136 rows x 2 columns]"
      ]
     },
     "execution_count": 14,
     "metadata": {},
     "output_type": "execute_result"
    }
   ],
   "source": [
    "df_count.groupby(\"view日数\").count()\\\n",
    "    .reset_index().rename(columns={\"ページ\": \"該当ページ数\"})\\\n",
    "    .sort_values(\"該当ページ数\", ascending=False)"
   ]
  }
 ],
 "metadata": {
  "kernelspec": {
   "display_name": "Python 3 (ipykernel)",
   "language": "python",
   "name": "python3"
  },
  "language_info": {
   "codemirror_mode": {
    "name": "ipython",
    "version": 3
   },
   "file_extension": ".py",
   "mimetype": "text/x-python",
   "name": "python",
   "nbconvert_exporter": "python",
   "pygments_lexer": "ipython3",
   "version": "3.10.0"
  }
 },
 "nbformat": 4,
 "nbformat_minor": 5
}
