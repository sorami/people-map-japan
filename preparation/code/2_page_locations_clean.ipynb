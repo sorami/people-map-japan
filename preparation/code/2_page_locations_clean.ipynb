{
 "cells": [
  {
   "cell_type": "markdown",
   "id": "b06d69e1",
   "metadata": {},
   "source": [
    "# 出身地の記述を名寄せ"
   ]
  },
  {
   "cell_type": "markdown",
   "id": "3a313ccb",
   "metadata": {},
   "source": [
    "名寄せの仕組み自体と簡単なテストケースは、 `utils.py` の `identify_locations()` を参照のこと"
   ]
  },
  {
   "cell_type": "code",
   "execution_count": 1,
   "id": "b0b277c7",
   "metadata": {},
   "outputs": [],
   "source": [
    "import json\n",
    "from collections import defaultdict\n",
    "\n",
    "from utils import identify_locations"
   ]
  },
  {
   "cell_type": "code",
   "execution_count": 2,
   "id": "ef255976",
   "metadata": {},
   "outputs": [
    {
     "data": {
      "text/plain": [
       "('北海道', '札幌市中央区')"
      ]
     },
     "execution_count": 2,
     "metadata": {},
     "output_type": "execute_result"
    }
   ],
   "source": [
    "identify_locations(\"北海道札幌市中央区北1条東4丁目1-1サッポロファクトリー1条館3F\")"
   ]
  },
  {
   "cell_type": "code",
   "execution_count": 3,
   "id": "151446f5",
   "metadata": {},
   "outputs": [
    {
     "data": {
      "text/plain": [
       "('岩手県', '奥州市')"
      ]
     },
     "execution_count": 3,
     "metadata": {},
     "output_type": "execute_result"
    }
   ],
   "source": [
    "identify_locations(\"岩手県水沢市（現：奥州市）\")"
   ]
  },
  {
   "cell_type": "markdown",
   "id": "ef0a9319",
   "metadata": {},
   "source": [
    "---"
   ]
  },
  {
   "cell_type": "code",
   "execution_count": 4,
   "id": "0eff05fa",
   "metadata": {},
   "outputs": [
    {
     "data": {
      "text/plain": [
       "37739"
      ]
     },
     "execution_count": 4,
     "metadata": {},
     "output_type": "execute_result"
    }
   ],
   "source": [
    "with open(\"../data/workspace/page_locations_raw.json\") as fp:\n",
    "    page_locations_raw = json.load(fp)\n",
    "len(page_locations_raw)"
   ]
  },
  {
   "cell_type": "code",
   "execution_count": 5,
   "id": "4b8d4354",
   "metadata": {
    "scrolled": false
   },
   "outputs": [
    {
     "data": {
      "text/plain": [
       "16528"
      ]
     },
     "execution_count": 5,
     "metadata": {},
     "output_type": "execute_result"
    }
   ],
   "source": [
    "page_locations_clean = {}\n",
    "ambiguous_location_pages = defaultdict(list)\n",
    "\n",
    "for page, locations_raw in sorted(page_locations_raw.items()):\n",
    "    locations_clean_set = set()\n",
    "    for before in locations_raw:\n",
    "        after = identify_locations(before)\n",
    "        if after:\n",
    "            locations_clean_set.add(after)\n",
    "        else:\n",
    "            ambiguous_location_pages[before].append(page)\n",
    "    if locations_clean_set:\n",
    "        page_locations_clean[page] = sorted(locations_clean_set)\n",
    "\n",
    "len(page_locations_clean)"
   ]
  },
  {
   "cell_type": "code",
   "execution_count": 6,
   "id": "cf12e398",
   "metadata": {},
   "outputs": [],
   "source": [
    "with open(\"../data/workspace/page_locations_clean.json\", \"w\") as fp:\n",
    "    json.dump(page_locations_clean, fp, indent=2, ensure_ascii=False)"
   ]
  },
  {
   "cell_type": "code",
   "execution_count": 7,
   "id": "c14c5842",
   "metadata": {},
   "outputs": [
    {
     "name": "stdout",
     "output_type": "stream",
     "text": [
      "{\r\n",
      "  \"%22brother%22YASSHI\": [\r\n",
      "    [\r\n",
      "      \"京都府\",\r\n",
      "      \"宇治市\"\r\n",
      "    ]\r\n",
      "  ],\r\n",
      "  \"%22黒天使%22沼澤邪鬼\": [\r\n",
      "    [\r\n",
      "      \"埼玉県\",\r\n"
     ]
    }
   ],
   "source": [
    "!head ../data/workspace/page_locations_clean.json"
   ]
  },
  {
   "cell_type": "code",
   "execution_count": 8,
   "id": "8a2095c0",
   "metadata": {},
   "outputs": [],
   "source": [
    "# 対象ページ数が多い順にソート\n",
    "ambiguous_location_pages = dict(sorted(ambiguous_location_pages.items(), key=lambda x: len(x[1]), reverse=True))\n",
    "\n",
    "with open(\"../data/workspace/ambiguous_location_pages.json\", \"w\") as fp:\n",
    "    json.dump(ambiguous_location_pages, fp, indent=2, ensure_ascii=False)"
   ]
  },
  {
   "cell_type": "markdown",
   "id": "29d7884e",
   "metadata": {},
   "source": [
    "## 名寄せできなかった地名表記"
   ]
  },
  {
   "cell_type": "code",
   "execution_count": 9,
   "id": "9a4155de",
   "metadata": {},
   "outputs": [],
   "source": [
    "import pandas as pd"
   ]
  },
  {
   "cell_type": "code",
   "execution_count": 10,
   "id": "7d83c66f",
   "metadata": {
    "scrolled": true
   },
   "outputs": [
    {
     "data": {
      "text/plain": [
       "4569"
      ]
     },
     "execution_count": 10,
     "metadata": {},
     "output_type": "execute_result"
    }
   ],
   "source": [
    "len(ambiguous_location_pages)"
   ]
  },
  {
   "cell_type": "markdown",
   "id": "d5ed5939",
   "metadata": {},
   "source": [
    "- 情報粒度が荒いケース\n",
    "  - 今回は「市区町村」レベルを求める\n",
    "  - 「都道府県」のみでは対象外\n",
    "  - 「政令指定都市」では「区」の単位まで求める\n",
    "- 地名ではないケース（学校名等）\n",
    "- 合併等により廃止された市区町村\n",
    "- ..."
   ]
  },
  {
   "cell_type": "code",
   "execution_count": 11,
   "id": "2b716e10",
   "metadata": {},
   "outputs": [
    {
     "data": {
      "text/plain": [
       "3565"
      ]
     },
     "execution_count": 11,
     "metadata": {},
     "output_type": "execute_result"
    }
   ],
   "source": [
    "len(ambiguous_location_pages[\"http://ja.dbpedia.org/resource/日本\"])"
   ]
  },
  {
   "cell_type": "code",
   "execution_count": 12,
   "id": "a90d9f4b",
   "metadata": {},
   "outputs": [
    {
     "data": {
      "text/plain": [
       "66"
      ]
     },
     "execution_count": 12,
     "metadata": {},
     "output_type": "execute_result"
    }
   ],
   "source": [
    "len(ambiguous_location_pages[\"北海道\"])"
   ]
  },
  {
   "cell_type": "code",
   "execution_count": 13,
   "id": "80766b87",
   "metadata": {},
   "outputs": [
    {
     "data": {
      "text/plain": [
       "147"
      ]
     },
     "execution_count": 13,
     "metadata": {},
     "output_type": "execute_result"
    }
   ],
   "source": [
    "len(ambiguous_location_pages[\"北海道札幌市\"])"
   ]
  },
  {
   "cell_type": "code",
   "execution_count": 14,
   "id": "0d98741f",
   "metadata": {
    "scrolled": true
   },
   "outputs": [
    {
     "data": {
      "text/plain": [
       "190"
      ]
     },
     "execution_count": 14,
     "metadata": {},
     "output_type": "execute_result"
    }
   ],
   "source": [
    "len(ambiguous_location_pages[\"http://ja.dbpedia.org/resource/吉本総合芸能学院\"])"
   ]
  },
  {
   "cell_type": "code",
   "execution_count": 15,
   "id": "79eec25e",
   "metadata": {
    "scrolled": true
   },
   "outputs": [
    {
     "data": {
      "text/html": [
       "<div>\n",
       "<style scoped>\n",
       "    .dataframe tbody tr th:only-of-type {\n",
       "        vertical-align: middle;\n",
       "    }\n",
       "\n",
       "    .dataframe tbody tr th {\n",
       "        vertical-align: top;\n",
       "    }\n",
       "\n",
       "    .dataframe thead th {\n",
       "        text-align: right;\n",
       "    }\n",
       "</style>\n",
       "<table border=\"1\" class=\"dataframe\">\n",
       "  <thead>\n",
       "    <tr style=\"text-align: right;\">\n",
       "      <th></th>\n",
       "      <th>地名表記</th>\n",
       "      <th>ページ数</th>\n",
       "    </tr>\n",
       "  </thead>\n",
       "  <tbody>\n",
       "    <tr>\n",
       "      <th>0</th>\n",
       "      <td>http://ja.dbpedia.org/resource/日本</td>\n",
       "      <td>3565</td>\n",
       "    </tr>\n",
       "    <tr>\n",
       "      <th>1</th>\n",
       "      <td>http://ja.dbpedia.org/resource/東京都</td>\n",
       "      <td>2373</td>\n",
       "    </tr>\n",
       "    <tr>\n",
       "      <th>2</th>\n",
       "      <td>・東京都</td>\n",
       "      <td>1757</td>\n",
       "    </tr>\n",
       "    <tr>\n",
       "      <th>3</th>\n",
       "      <td>http://ja.dbpedia.org/resource/大阪府</td>\n",
       "      <td>1295</td>\n",
       "    </tr>\n",
       "    <tr>\n",
       "      <th>4</th>\n",
       "      <td>http://ja.dbpedia.org/resource/神奈川県</td>\n",
       "      <td>1212</td>\n",
       "    </tr>\n",
       "  </tbody>\n",
       "</table>\n",
       "</div>"
      ],
      "text/plain": [
       "                                  地名表記  ページ数\n",
       "0    http://ja.dbpedia.org/resource/日本  3565\n",
       "1   http://ja.dbpedia.org/resource/東京都  2373\n",
       "2                                 ・東京都  1757\n",
       "3   http://ja.dbpedia.org/resource/大阪府  1295\n",
       "4  http://ja.dbpedia.org/resource/神奈川県  1212"
      ]
     },
     "execution_count": 15,
     "metadata": {},
     "output_type": "execute_result"
    }
   ],
   "source": [
    "df = pd.DataFrame([(k, len(v)) for k, v in ambiguous_location_pages.items()], columns=[\"地名表記\", \"ページ数\"])\n",
    "df.head()"
   ]
  },
  {
   "cell_type": "code",
   "execution_count": 16,
   "id": "00127913",
   "metadata": {},
   "outputs": [
    {
     "data": {
      "text/html": [
       "<div>\n",
       "<style scoped>\n",
       "    .dataframe tbody tr th:only-of-type {\n",
       "        vertical-align: middle;\n",
       "    }\n",
       "\n",
       "    .dataframe tbody tr th {\n",
       "        vertical-align: top;\n",
       "    }\n",
       "\n",
       "    .dataframe thead th {\n",
       "        text-align: right;\n",
       "    }\n",
       "</style>\n",
       "<table border=\"1\" class=\"dataframe\">\n",
       "  <thead>\n",
       "    <tr style=\"text-align: right;\">\n",
       "      <th></th>\n",
       "      <th>地名表記</th>\n",
       "      <th>ページ数</th>\n",
       "    </tr>\n",
       "  </thead>\n",
       "  <tbody>\n",
       "    <tr>\n",
       "      <th>4564</th>\n",
       "      <td>（現：鹿児島県鹿児島市新屋敷町）</td>\n",
       "      <td>1</td>\n",
       "    </tr>\n",
       "    <tr>\n",
       "      <th>4565</th>\n",
       "      <td>（旧赤磐郡山陽町）</td>\n",
       "      <td>1</td>\n",
       "    </tr>\n",
       "    <tr>\n",
       "      <th>4566</th>\n",
       "      <td>宮城県仙台市（愛知県名古屋市）</td>\n",
       "      <td>1</td>\n",
       "    </tr>\n",
       "    <tr>\n",
       "      <th>4567</th>\n",
       "      <td>山口県三隅町</td>\n",
       "      <td>1</td>\n",
       "    </tr>\n",
       "    <tr>\n",
       "      <th>4568</th>\n",
       "      <td>長野県坂城町</td>\n",
       "      <td>1</td>\n",
       "    </tr>\n",
       "  </tbody>\n",
       "</table>\n",
       "</div>"
      ],
      "text/plain": [
       "                  地名表記  ページ数\n",
       "4564  （現：鹿児島県鹿児島市新屋敷町）     1\n",
       "4565         （旧赤磐郡山陽町）     1\n",
       "4566   宮城県仙台市（愛知県名古屋市）     1\n",
       "4567            山口県三隅町     1\n",
       "4568            長野県坂城町     1"
      ]
     },
     "execution_count": 16,
     "metadata": {},
     "output_type": "execute_result"
    }
   ],
   "source": [
    "df.tail()"
   ]
  },
  {
   "cell_type": "markdown",
   "id": "5267f643",
   "metadata": {},
   "source": [
    "1回のみ出現する表記が最も多い。出現回数はべき乗となっている。"
   ]
  },
  {
   "cell_type": "code",
   "execution_count": 17,
   "id": "4dd519d4",
   "metadata": {},
   "outputs": [
    {
     "data": {
      "text/html": [
       "<div>\n",
       "<style scoped>\n",
       "    .dataframe tbody tr th:only-of-type {\n",
       "        vertical-align: middle;\n",
       "    }\n",
       "\n",
       "    .dataframe tbody tr th {\n",
       "        vertical-align: top;\n",
       "    }\n",
       "\n",
       "    .dataframe thead th {\n",
       "        text-align: right;\n",
       "    }\n",
       "</style>\n",
       "<table border=\"1\" class=\"dataframe\">\n",
       "  <thead>\n",
       "    <tr style=\"text-align: right;\">\n",
       "      <th></th>\n",
       "      <th>ページ数</th>\n",
       "      <th>地名表記の数</th>\n",
       "    </tr>\n",
       "  </thead>\n",
       "  <tbody>\n",
       "    <tr>\n",
       "      <th>0</th>\n",
       "      <td>1</td>\n",
       "      <td>3702</td>\n",
       "    </tr>\n",
       "    <tr>\n",
       "      <th>1</th>\n",
       "      <td>2</td>\n",
       "      <td>371</td>\n",
       "    </tr>\n",
       "    <tr>\n",
       "      <th>2</th>\n",
       "      <td>3</td>\n",
       "      <td>113</td>\n",
       "    </tr>\n",
       "    <tr>\n",
       "      <th>3</th>\n",
       "      <td>4</td>\n",
       "      <td>74</td>\n",
       "    </tr>\n",
       "    <tr>\n",
       "      <th>4</th>\n",
       "      <td>5</td>\n",
       "      <td>34</td>\n",
       "    </tr>\n",
       "    <tr>\n",
       "      <th>...</th>\n",
       "      <td>...</td>\n",
       "      <td>...</td>\n",
       "    </tr>\n",
       "    <tr>\n",
       "      <th>146</th>\n",
       "      <td>1212</td>\n",
       "      <td>1</td>\n",
       "    </tr>\n",
       "    <tr>\n",
       "      <th>147</th>\n",
       "      <td>1295</td>\n",
       "      <td>1</td>\n",
       "    </tr>\n",
       "    <tr>\n",
       "      <th>148</th>\n",
       "      <td>1757</td>\n",
       "      <td>1</td>\n",
       "    </tr>\n",
       "    <tr>\n",
       "      <th>149</th>\n",
       "      <td>2373</td>\n",
       "      <td>1</td>\n",
       "    </tr>\n",
       "    <tr>\n",
       "      <th>150</th>\n",
       "      <td>3565</td>\n",
       "      <td>1</td>\n",
       "    </tr>\n",
       "  </tbody>\n",
       "</table>\n",
       "<p>151 rows × 2 columns</p>\n",
       "</div>"
      ],
      "text/plain": [
       "     ページ数  地名表記の数\n",
       "0       1    3702\n",
       "1       2     371\n",
       "2       3     113\n",
       "3       4      74\n",
       "4       5      34\n",
       "..    ...     ...\n",
       "146  1212       1\n",
       "147  1295       1\n",
       "148  1757       1\n",
       "149  2373       1\n",
       "150  3565       1\n",
       "\n",
       "[151 rows x 2 columns]"
      ]
     },
     "execution_count": 17,
     "metadata": {},
     "output_type": "execute_result"
    }
   ],
   "source": [
    "df.groupby(\"ページ数\").count().reset_index().sort_values(\"ページ数\").rename(columns={\"地名表記\": \"地名表記の数\"})"
   ]
  },
  {
   "cell_type": "code",
   "execution_count": 18,
   "id": "a93fc5b6",
   "metadata": {},
   "outputs": [
    {
     "data": {
      "image/png": "[encoded data removed]",
      "text/plain": [
       "<Figure size 576x432 with 1 Axes>"
      ]
     },
     "metadata": {},
     "output_type": "display_data"
    }
   ],
   "source": [
    "from matplotlib import pyplot as plt\n",
    "plt.style.use('fivethirtyeight')\n",
    "plt.rcParams[\"font.family\"] = \"Hiragino Sans\"\n",
    "plt.rcParams[\"figure.figsize\"] = [8, 6]\n",
    "\n",
    "df.plot.hist(log=True);"
   ]
  }
 ],
 "metadata": {
  "kernelspec": {
   "display_name": "Python 3 (ipykernel)",
   "language": "python",
   "name": "python3"
  },
  "language_info": {
   "codemirror_mode": {
    "name": "ipython",
    "version": 3
   },
   "file_extension": ".py",
   "mimetype": "text/x-python",
   "name": "python",
   "nbconvert_exporter": "python",
   "pygments_lexer": "ipython3",
   "version": "3.10.0"
  }
 },
 "nbformat": 4,
 "nbformat_minor": 5
}
