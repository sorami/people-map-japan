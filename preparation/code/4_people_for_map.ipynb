{
 "cells": [
  {
   "cell_type": "markdown",
   "id": "40bf9bd9",
   "metadata": {},
   "source": [
    "# 収集結果をまとめ、市区町村ごとの人物を選択"
   ]
  },
  {
   "cell_type": "code",
   "execution_count": 1,
   "id": "670e8e2f",
   "metadata": {},
   "outputs": [],
   "source": [
    "import json\n",
    "import pickle\n",
    "from collections import defaultdict\n",
    "from statistics import median\n",
    "\n",
    "import pandas as pd\n",
    "from SPARQLWrapper import SPARQLWrapper\n",
    "import requests\n",
    "from tqdm.notebook import tqdm"
   ]
  },
  {
   "cell_type": "markdown",
   "id": "89dedcd1",
   "metadata": {},
   "source": [
    "## 市区町村、ページ、PV数をマージ\n",
    "\n",
    "（年間合計PV数を利用）"
   ]
  },
  {
   "cell_type": "code",
   "execution_count": 2,
   "id": "26289dec",
   "metadata": {},
   "outputs": [],
   "source": [
    "with open(\"../data/pref_munic_coords.json\") as fp:\n",
    "    pref_munic_coords = json.load(fp)\n",
    "\n",
    "with open(\"../data/workspace/page_locations_clean.json\") as fp:\n",
    "    page_locations_clean = json.load(fp)\n",
    "\n",
    "with open(\"../data/workspace/page_views.pickle\", \"rb\") as fp:\n",
    "     page_views = pickle.load(fp)\n",
    "assert len(page_locations_clean) == len(page_views)"
   ]
  },
  {
   "cell_type": "code",
   "execution_count": 3,
   "id": "3210ac8e",
   "metadata": {},
   "outputs": [],
   "source": [
    "location_pages = defaultdict(list)\n",
    "for page, locations in page_locations_clean.items():\n",
    "    for (pref, munic) in locations:\n",
    "        location_pages[pref, munic].append(page)"
   ]
  },
  {
   "cell_type": "code",
   "execution_count": 4,
   "id": "eda1bd3b",
   "metadata": {},
   "outputs": [],
   "source": [
    "def get_yearly_views(page):\n",
    "    return sum(page_views[page].values())"
   ]
  },
  {
   "cell_type": "code",
   "execution_count": 5,
   "id": "503efad0",
   "metadata": {},
   "outputs": [],
   "source": [
    "pref_munic_pages = {}\n",
    "for pref, munic_coords in pref_munic_coords.items():\n",
    "    pref_munic_pages[pref] = {}\n",
    "    for munic in munic_coords.keys():\n",
    "            pages = [\n",
    "                {\"page\": p, \"views\": get_yearly_views(p)} for p in location_pages[pref, munic]\n",
    "            ]\n",
    "            pref_munic_pages[pref][munic] = sorted(pages, key=lambda p: p[\"views\"], reverse=True)"
   ]
  },
  {
   "cell_type": "code",
   "execution_count": 6,
   "id": "e799ee8c",
   "metadata": {},
   "outputs": [],
   "source": [
    "with open(\"../data/pref_munic_pages.json\", \"w\") as fp:\n",
    "    json.dump(pref_munic_pages, fp, indent=2, ensure_ascii=False)"
   ]
  },
  {
   "cell_type": "code",
   "execution_count": 7,
   "id": "2f68c205",
   "metadata": {
    "scrolled": true
   },
   "outputs": [
    {
     "data": {
      "text/plain": [
       "[{'page': '大谷翔平', 'views': 4914419},\n",
       " {'page': '久慈暁子', 'views': 543372},\n",
       " {'page': '一城みゆ希', 'views': 102891},\n",
       " {'page': '高橋直純', 'views': 74633},\n",
       " {'page': '石川修司', 'views': 24664},\n",
       " {'page': '佐藤嗣麻子', 'views': 20857},\n",
       " {'page': '千葉慎也', 'views': 3406},\n",
       " {'page': '鈴々木保香', 'views': 3132},\n",
       " {'page': 'Moto', 'views': 2915},\n",
       " {'page': '津田禎', 'views': 1771},\n",
       " {'page': '鈴木未来', 'views': 1125}]"
      ]
     },
     "execution_count": 7,
     "metadata": {},
     "output_type": "execute_result"
    }
   ],
   "source": [
    "pref_munic_pages[\"岩手県\"][\"奥州市\"]"
   ]
  },
  {
   "cell_type": "markdown",
   "id": "c7da0add",
   "metadata": {},
   "source": [
    "## 市区町村ごとのページ（人物）を選択、概要文を取得"
   ]
  },
  {
   "cell_type": "code",
   "execution_count": 8,
   "id": "80006a5c",
   "metadata": {},
   "outputs": [],
   "source": [
    "sparql = SPARQLWrapper(endpoint=\"http://ja.dbpedia.org/sparql\", returnFormat=\"json\")\n",
    "\n",
    "def get_abstract(page):\n",
    "    sparql.setQuery(f\"\"\"\n",
    "        SELECT DISTINCT * \n",
    "        WHERE {{\n",
    "            <http://ja.dbpedia.org/resource/{page}>\n",
    "            dbo:abstract\n",
    "            ?o .\n",
    "            }}\n",
    "    \"\"\")\n",
    "    res = sparql.query().convert()\n",
    "    bindings = res[\"results\"][\"bindings\"]\n",
    "    if len(bindings) < 1:\n",
    "        return \"\"\n",
    "    return bindings[0][\"o\"][\"value\"]"
   ]
  },
  {
   "cell_type": "code",
   "execution_count": 9,
   "id": "c67df9d2",
   "metadata": {},
   "outputs": [
    {
     "data": {
      "text/plain": [
       "'大谷 翔平（おおたに しょうへい、1994年7月5日 - ）は、岩手県奥州市出身のプロ野球選手。右投左打。MLBのロサンゼルス・エンゼルス所属。 2013年にNPB・北海道日本ハムファイターズに入団以降、投手と打者を両立する「二刀流」の選手として試合に出場し、2014年には11勝、10本塁打でNPB史上初となる「2桁勝利・2桁本塁打」を達成。2016年には、NPB史上初となるベストナイン賞、ベストDH賞のダブル受賞に加え、リーグMVPに選出された。投手としての球速165km/hは日本人最速記録である。2019年にはMLBにおいて日本人初のサイクルヒットを達成した。'"
      ]
     },
     "execution_count": 9,
     "metadata": {},
     "output_type": "execute_result"
    }
   ],
   "source": [
    "get_abstract(\"大谷翔平\")"
   ]
  },
  {
   "cell_type": "markdown",
   "id": "1e8f91b0",
   "metadata": {},
   "source": [
    "---"
   ]
  },
  {
   "cell_type": "code",
   "execution_count": 10,
   "id": "a3ab1571",
   "metadata": {},
   "outputs": [
    {
     "data": {
      "application/vnd.jupyter.widget-view+json": {
       "model_id": "14016909be854af38a5210ef056aff4f",
       "version_major": 2,
       "version_minor": 0
      },
      "text/plain": [
       "  0%|          | 0/47 [00:00<?, ?it/s]"
      ]
     },
     "metadata": {},
     "output_type": "display_data"
    },
    {
     "data": {
      "text/plain": [
       "1560"
      ]
     },
     "execution_count": 10,
     "metadata": {},
     "output_type": "execute_result"
    }
   ],
   "source": [
    "people_for_map = []\n",
    "\n",
    "for pref, munic_pages in tqdm(pref_munic_pages.items()):\n",
    "    for munic, pages in munic_pages.items():\n",
    "        if not pages:\n",
    "            continue\n",
    "\n",
    "        selected = sorted(pages, key=lambda p: p[\"views\"], reverse=True)[0]\n",
    "\n",
    "        people_for_map.append({\n",
    "            \"page\": selected[\"page\"],\n",
    "            \"pref\": pref,\n",
    "            \"munic\": munic,\n",
    "            \"coords\": pref_munic_coords[pref][munic],\n",
    "            \"views\": selected[\"views\"],\n",
    "            \"abstract\": get_abstract(selected[\"page\"])\n",
    "        })\n",
    "\n",
    "len(people_for_map)"
   ]
  },
  {
   "cell_type": "markdown",
   "id": "41715b6f",
   "metadata": {},
   "source": [
    "---"
   ]
  },
  {
   "cell_type": "markdown",
   "id": "68ca48a3",
   "metadata": {},
   "source": [
    "DBPediaには概要文が存在しなかった人物の対処"
   ]
  },
  {
   "cell_type": "code",
   "execution_count": 11,
   "id": "f8cf0070",
   "metadata": {},
   "outputs": [],
   "source": [
    "def get_extract(page):\n",
    "    r = requests.get(f\"https://ja.wikipedia.org/api/rest_v1/page/summary/{page}\")\n",
    "    r.raise_for_status()\n",
    "    return r.json()[\"extract\"]"
   ]
  },
  {
   "cell_type": "code",
   "execution_count": 12,
   "id": "f793f8d2",
   "metadata": {},
   "outputs": [
    {
     "data": {
      "text/plain": [
       "''"
      ]
     },
     "execution_count": 12,
     "metadata": {},
     "output_type": "execute_result"
    }
   ],
   "source": [
    "get_abstract(\"岡野陽一\")"
   ]
  },
  {
   "cell_type": "code",
   "execution_count": 13,
   "id": "bfb76bc3",
   "metadata": {},
   "outputs": [
    {
     "data": {
      "text/plain": [
       "'岡野 陽一 は、日本のお笑い芸人である。福井県敦賀市出身。プロダクション人力舎所属。R-1ぐらんぷり2019ファイナリスト。'"
      ]
     },
     "execution_count": 13,
     "metadata": {},
     "output_type": "execute_result"
    }
   ],
   "source": [
    "get_extract(\"岡野陽一\")"
   ]
  },
  {
   "cell_type": "code",
   "execution_count": 14,
   "id": "1ae39ebe",
   "metadata": {},
   "outputs": [
    {
     "name": "stdout",
     "output_type": "stream",
     "text": [
      "池髙暢希\n",
      "高橋昌幸\n",
      "西村穣\n",
      "王林_(アイドル)\n",
      "天野♥こころ\n",
      "三浦春馬\n",
      "入江大生\n",
      "髙橋光成\n",
      "伊藤将司\n",
      "HANAKO\n",
      "SANADA\n",
      "山﨑颯一郎\n",
      "岡野陽一\n",
      "UTAMARO\n",
      "髙橋宏斗\n",
      "栗林良吏\n",
      "髙田萌生\n",
      "山縣亮太\n",
      "三好大倫\n",
      "貞包里穂\n",
      "髙橋大悟\n"
     ]
    }
   ],
   "source": [
    "for p in people_for_map:\n",
    "    if p[\"abstract\"]:\n",
    "        continue\n",
    "\n",
    "    print(p[\"page\"])\n",
    "    extract = get_extract(p[\"page\"])\n",
    "    assert extract, p\n",
    "    p[\"abstract\"] = extract"
   ]
  },
  {
   "cell_type": "markdown",
   "id": "cec813cf",
   "metadata": {},
   "source": [
    "---"
   ]
  },
  {
   "cell_type": "code",
   "execution_count": 15,
   "id": "2a53312a",
   "metadata": {},
   "outputs": [],
   "source": [
    "with open(\"../data/people_for_map.json\", \"w\") as fp:\n",
    "    json.dump(people_for_map, fp, indent=2, ensure_ascii=False)"
   ]
  }
 ],
 "metadata": {
  "kernelspec": {
   "display_name": "Python 3 (ipykernel)",
   "language": "python",
   "name": "python3"
  },
  "language_info": {
   "codemirror_mode": {
    "name": "ipython",
    "version": 3
   },
   "file_extension": ".py",
   "mimetype": "text/x-python",
   "name": "python",
   "nbconvert_exporter": "python",
   "pygments_lexer": "ipython3",
   "version": "3.10.0"
  }
 },
 "nbformat": 4,
 "nbformat_minor": 5
}
