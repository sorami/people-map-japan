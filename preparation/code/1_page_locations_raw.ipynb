{
 "cells": [
  {
   "cell_type": "markdown",
   "id": "db40632e",
   "metadata": {},
   "source": [
    "# Wikipediaにあるページとその出身地を取得"
   ]
  },
  {
   "cell_type": "code",
   "execution_count": 1,
   "id": "79c234ac",
   "metadata": {},
   "outputs": [],
   "source": [
    "from time import sleep\n",
    "from collections import defaultdict\n",
    "import json\n",
    "from itertools import chain\n",
    "\n",
    "from SPARQLWrapper import SPARQLWrapper\n",
    "from tqdm.notebook import tqdm\n",
    "import pandas as pd\n",
    "\n",
    "from utils import PREFECTURES"
   ]
  },
  {
   "cell_type": "code",
   "execution_count": 2,
   "id": "3fa4de3f",
   "metadata": {},
   "outputs": [],
   "source": [
    "sparql = SPARQLWrapper(endpoint=\"http://ja.dbpedia.org/sparql\", returnFormat=\"json\")"
   ]
  },
  {
   "cell_type": "markdown",
   "id": "a0597668",
   "metadata": {},
   "source": [
    "## 「<都道府県>出身の人物一覧」からのリンク先ページを列挙\n",
    "\n",
    "e.g., [北海道出身の人物一覧 - Wikipedia](https://ja.wikipedia.org/wiki/%E5%8C%97%E6%B5%B7%E9%81%93%E5%87%BA%E8%BA%AB%E3%81%AE%E4%BA%BA%E7%89%A9%E4%B8%80%E8%A6%A7)\n",
    "\n",
    "- 参考\n",
    "  - [Template‐ノート:日本出身の人物の合意事項 - Wikipedia](https://ja.wikipedia.org/wiki/Template%E2%80%90%E3%83%8E%E3%83%BC%E3%83%88:%E6%97%A5%E6%9C%AC%E5%87%BA%E8%BA%AB%E3%81%AE%E4%BA%BA%E7%89%A9%E3%81%AE%E5%90%88%E6%84%8F%E4%BA%8B%E9%A0%85)\n",
    "  - [出身別の人名記事一覧の一覧 - Wikipedia](https://ja.wikipedia.org/wiki/%E5%87%BA%E8%BA%AB%E5%88%A5%E3%81%AE%E4%BA%BA%E5%90%8D%E8%A8%98%E4%BA%8B%E4%B8%80%E8%A6%A7%E3%81%AE%E4%B8%80%E8%A6%A7#%E6%97%A5%E6%9C%AC%E3%81%AE%E5%9C%B0%E5%9F%9F%EF%BC%88%E9%83%BD%E9%81%93%E5%BA%9C%E7%9C%8C%E3%80%81%E5%B8%82%E7%94%BA%E6%9D%91%EF%BC%89)"
   ]
  },
  {
   "cell_type": "code",
   "execution_count": 3,
   "id": "2efa79e1",
   "metadata": {},
   "outputs": [
    {
     "data": {
      "application/vnd.jupyter.widget-view+json": {
       "model_id": "e70d94a0b26548e6a0402c75020103c0",
       "version_major": 2,
       "version_minor": 0
      },
      "text/plain": [
       "  0%|          | 0/47 [00:00<?, ?it/s]"
      ]
     },
     "metadata": {},
     "output_type": "display_data"
    }
   ],
   "source": [
    "pref_pages = defaultdict(set)\n",
    "\n",
    "for pref_name in tqdm(PREFECTURES):\n",
    "    sparql.setQuery(f\"\"\"\n",
    "        SELECT DISTINCT * \n",
    "        WHERE {{\n",
    "            <http://ja.dbpedia.org/resource/{pref_name}出身の人物一覧>\n",
    "            dbo:wikiPageWikiLink\n",
    "            ?o .\n",
    "            }}\n",
    "    \"\"\")\n",
    "    res = sparql.query().convert()\n",
    "    for x in res[\"results\"][\"bindings\"]:\n",
    "        assert x[\"o\"][\"type\"] == \"uri\"\n",
    "        pref_pages[pref_name].add( x[\"o\"][\"value\"] )"
   ]
  },
  {
   "cell_type": "code",
   "execution_count": 4,
   "id": "43f9eb50",
   "metadata": {},
   "outputs": [
    {
     "data": {
      "text/html": [
       "<div>\n",
       "<style scoped>\n",
       "    .dataframe tbody tr th:only-of-type {\n",
       "        vertical-align: middle;\n",
       "    }\n",
       "\n",
       "    .dataframe tbody tr th {\n",
       "        vertical-align: top;\n",
       "    }\n",
       "\n",
       "    .dataframe thead th {\n",
       "        text-align: right;\n",
       "    }\n",
       "</style>\n",
       "<table border=\"1\" class=\"dataframe\">\n",
       "  <thead>\n",
       "    <tr style=\"text-align: right;\">\n",
       "      <th></th>\n",
       "      <th>pref</th>\n",
       "      <th>n_pages</th>\n",
       "    </tr>\n",
       "  </thead>\n",
       "  <tbody>\n",
       "    <tr>\n",
       "      <th>0</th>\n",
       "      <td>北海道</td>\n",
       "      <td>3493</td>\n",
       "    </tr>\n",
       "    <tr>\n",
       "      <th>1</th>\n",
       "      <td>青森県</td>\n",
       "      <td>1428</td>\n",
       "    </tr>\n",
       "    <tr>\n",
       "      <th>2</th>\n",
       "      <td>岩手県</td>\n",
       "      <td>1313</td>\n",
       "    </tr>\n",
       "    <tr>\n",
       "      <th>3</th>\n",
       "      <td>宮城県</td>\n",
       "      <td>1574</td>\n",
       "    </tr>\n",
       "    <tr>\n",
       "      <th>4</th>\n",
       "      <td>秋田県</td>\n",
       "      <td>1002</td>\n",
       "    </tr>\n",
       "    <tr>\n",
       "      <th>5</th>\n",
       "      <td>山形県</td>\n",
       "      <td>1056</td>\n",
       "    </tr>\n",
       "    <tr>\n",
       "      <th>6</th>\n",
       "      <td>福島県</td>\n",
       "      <td>1991</td>\n",
       "    </tr>\n",
       "    <tr>\n",
       "      <th>7</th>\n",
       "      <td>茨城県</td>\n",
       "      <td>1401</td>\n",
       "    </tr>\n",
       "    <tr>\n",
       "      <th>8</th>\n",
       "      <td>栃木県</td>\n",
       "      <td>1133</td>\n",
       "    </tr>\n",
       "    <tr>\n",
       "      <th>9</th>\n",
       "      <td>群馬県</td>\n",
       "      <td>1649</td>\n",
       "    </tr>\n",
       "    <tr>\n",
       "      <th>10</th>\n",
       "      <td>埼玉県</td>\n",
       "      <td>3804</td>\n",
       "    </tr>\n",
       "    <tr>\n",
       "      <th>11</th>\n",
       "      <td>千葉県</td>\n",
       "      <td>2900</td>\n",
       "    </tr>\n",
       "    <tr>\n",
       "      <th>12</th>\n",
       "      <td>東京都</td>\n",
       "      <td>6545</td>\n",
       "    </tr>\n",
       "    <tr>\n",
       "      <th>13</th>\n",
       "      <td>神奈川県</td>\n",
       "      <td>3512</td>\n",
       "    </tr>\n",
       "    <tr>\n",
       "      <th>14</th>\n",
       "      <td>新潟県</td>\n",
       "      <td>1608</td>\n",
       "    </tr>\n",
       "    <tr>\n",
       "      <th>15</th>\n",
       "      <td>富山県</td>\n",
       "      <td>727</td>\n",
       "    </tr>\n",
       "    <tr>\n",
       "      <th>16</th>\n",
       "      <td>石川県</td>\n",
       "      <td>1314</td>\n",
       "    </tr>\n",
       "    <tr>\n",
       "      <th>17</th>\n",
       "      <td>福井県</td>\n",
       "      <td>813</td>\n",
       "    </tr>\n",
       "    <tr>\n",
       "      <th>18</th>\n",
       "      <td>山梨県</td>\n",
       "      <td>870</td>\n",
       "    </tr>\n",
       "    <tr>\n",
       "      <th>19</th>\n",
       "      <td>長野県</td>\n",
       "      <td>2600</td>\n",
       "    </tr>\n",
       "    <tr>\n",
       "      <th>20</th>\n",
       "      <td>岐阜県</td>\n",
       "      <td>1384</td>\n",
       "    </tr>\n",
       "    <tr>\n",
       "      <th>21</th>\n",
       "      <td>静岡県</td>\n",
       "      <td>1971</td>\n",
       "    </tr>\n",
       "    <tr>\n",
       "      <th>22</th>\n",
       "      <td>愛知県</td>\n",
       "      <td>4317</td>\n",
       "    </tr>\n",
       "    <tr>\n",
       "      <th>23</th>\n",
       "      <td>三重県</td>\n",
       "      <td>935</td>\n",
       "    </tr>\n",
       "    <tr>\n",
       "      <th>24</th>\n",
       "      <td>滋賀県</td>\n",
       "      <td>1784</td>\n",
       "    </tr>\n",
       "    <tr>\n",
       "      <th>25</th>\n",
       "      <td>京都府</td>\n",
       "      <td>1852</td>\n",
       "    </tr>\n",
       "    <tr>\n",
       "      <th>26</th>\n",
       "      <td>大阪府</td>\n",
       "      <td>3827</td>\n",
       "    </tr>\n",
       "    <tr>\n",
       "      <th>27</th>\n",
       "      <td>兵庫県</td>\n",
       "      <td>3192</td>\n",
       "    </tr>\n",
       "    <tr>\n",
       "      <th>28</th>\n",
       "      <td>奈良県</td>\n",
       "      <td>1043</td>\n",
       "    </tr>\n",
       "    <tr>\n",
       "      <th>29</th>\n",
       "      <td>和歌山県</td>\n",
       "      <td>887</td>\n",
       "    </tr>\n",
       "    <tr>\n",
       "      <th>30</th>\n",
       "      <td>鳥取県</td>\n",
       "      <td>814</td>\n",
       "    </tr>\n",
       "    <tr>\n",
       "      <th>31</th>\n",
       "      <td>島根県</td>\n",
       "      <td>1070</td>\n",
       "    </tr>\n",
       "    <tr>\n",
       "      <th>32</th>\n",
       "      <td>岡山県</td>\n",
       "      <td>1532</td>\n",
       "    </tr>\n",
       "    <tr>\n",
       "      <th>33</th>\n",
       "      <td>広島県</td>\n",
       "      <td>3909</td>\n",
       "    </tr>\n",
       "    <tr>\n",
       "      <th>34</th>\n",
       "      <td>山口県</td>\n",
       "      <td>1272</td>\n",
       "    </tr>\n",
       "    <tr>\n",
       "      <th>35</th>\n",
       "      <td>徳島県</td>\n",
       "      <td>680</td>\n",
       "    </tr>\n",
       "    <tr>\n",
       "      <th>36</th>\n",
       "      <td>香川県</td>\n",
       "      <td>958</td>\n",
       "    </tr>\n",
       "    <tr>\n",
       "      <th>37</th>\n",
       "      <td>愛媛県</td>\n",
       "      <td>1388</td>\n",
       "    </tr>\n",
       "    <tr>\n",
       "      <th>38</th>\n",
       "      <td>高知県</td>\n",
       "      <td>667</td>\n",
       "    </tr>\n",
       "    <tr>\n",
       "      <th>39</th>\n",
       "      <td>福岡県</td>\n",
       "      <td>4577</td>\n",
       "    </tr>\n",
       "    <tr>\n",
       "      <th>40</th>\n",
       "      <td>佐賀県</td>\n",
       "      <td>729</td>\n",
       "    </tr>\n",
       "    <tr>\n",
       "      <th>41</th>\n",
       "      <td>長崎県</td>\n",
       "      <td>2161</td>\n",
       "    </tr>\n",
       "    <tr>\n",
       "      <th>42</th>\n",
       "      <td>熊本県</td>\n",
       "      <td>2828</td>\n",
       "    </tr>\n",
       "    <tr>\n",
       "      <th>43</th>\n",
       "      <td>大分県</td>\n",
       "      <td>1069</td>\n",
       "    </tr>\n",
       "    <tr>\n",
       "      <th>44</th>\n",
       "      <td>宮崎県</td>\n",
       "      <td>1109</td>\n",
       "    </tr>\n",
       "    <tr>\n",
       "      <th>45</th>\n",
       "      <td>鹿児島県</td>\n",
       "      <td>2604</td>\n",
       "    </tr>\n",
       "    <tr>\n",
       "      <th>46</th>\n",
       "      <td>沖縄県</td>\n",
       "      <td>1186</td>\n",
       "    </tr>\n",
       "  </tbody>\n",
       "</table>\n",
       "</div>"
      ],
      "text/plain": [
       "    pref  n_pages\n",
       "0    北海道     3493\n",
       "1    青森県     1428\n",
       "2    岩手県     1313\n",
       "3    宮城県     1574\n",
       "4    秋田県     1002\n",
       "5    山形県     1056\n",
       "6    福島県     1991\n",
       "7    茨城県     1401\n",
       "8    栃木県     1133\n",
       "9    群馬県     1649\n",
       "10   埼玉県     3804\n",
       "11   千葉県     2900\n",
       "12   東京都     6545\n",
       "13  神奈川県     3512\n",
       "14   新潟県     1608\n",
       "15   富山県      727\n",
       "16   石川県     1314\n",
       "17   福井県      813\n",
       "18   山梨県      870\n",
       "19   長野県     2600\n",
       "20   岐阜県     1384\n",
       "21   静岡県     1971\n",
       "22   愛知県     4317\n",
       "23   三重県      935\n",
       "24   滋賀県     1784\n",
       "25   京都府     1852\n",
       "26   大阪府     3827\n",
       "27   兵庫県     3192\n",
       "28   奈良県     1043\n",
       "29  和歌山県      887\n",
       "30   鳥取県      814\n",
       "31   島根県     1070\n",
       "32   岡山県     1532\n",
       "33   広島県     3909\n",
       "34   山口県     1272\n",
       "35   徳島県      680\n",
       "36   香川県      958\n",
       "37   愛媛県     1388\n",
       "38   高知県      667\n",
       "39   福岡県     4577\n",
       "40   佐賀県      729\n",
       "41   長崎県     2161\n",
       "42   熊本県     2828\n",
       "43   大分県     1069\n",
       "44   宮崎県     1109\n",
       "45  鹿児島県     2604\n",
       "46   沖縄県     1186"
      ]
     },
     "execution_count": 4,
     "metadata": {},
     "output_type": "execute_result"
    }
   ],
   "source": [
    "df_count = pd.DataFrame([(k, len(v)) for k, v in pref_pages.items()], columns=[\"pref\", \"n_pages\"])\n",
    "df_count"
   ]
  },
  {
   "cell_type": "code",
   "execution_count": 5,
   "id": "97b20d6b",
   "metadata": {},
   "outputs": [
    {
     "data": {
      "text/plain": [
       "72567"
      ]
     },
     "execution_count": 5,
     "metadata": {},
     "output_type": "execute_result"
    }
   ],
   "source": [
    "all_page_list = sorted(set(chain.from_iterable(pref_pages.values())))\n",
    "len(all_page_list)"
   ]
  },
  {
   "cell_type": "code",
   "execution_count": 6,
   "id": "06fd7985",
   "metadata": {},
   "outputs": [],
   "source": [
    "with open(\"../data/workspace/all_page_list.json\", \"w\") as fp:\n",
    "    json.dump(all_page_list, fp, indent=2, ensure_ascii=False)"
   ]
  },
  {
   "cell_type": "code",
   "execution_count": 7,
   "id": "5cad76cc",
   "metadata": {},
   "outputs": [
    {
     "name": "stdout",
     "output_type": "stream",
     "text": [
      "[\r\n",
      "  \"http://ja.dbpedia.org/resource/!wagero!\",\r\n",
      "  \"http://ja.dbpedia.org/resource/%22E%22qual\",\r\n",
      "  \"http://ja.dbpedia.org/resource/%22brother%22YASSHI\",\r\n",
      "  \"http://ja.dbpedia.org/resource/%22黒天使%22沼澤邪鬼\",\r\n",
      "  \"http://ja.dbpedia.org/resource/%5C(%5Eo%5E)/チエ\",\r\n",
      "  \"http://ja.dbpedia.org/resource/(劇団4ドル50セント)\",\r\n",
      "  \"http://ja.dbpedia.org/resource/04_Limited_Sazabys\",\r\n",
      "  \"http://ja.dbpedia.org/resource/0930\",\r\n",
      "  \"http://ja.dbpedia.org/resource/1.FCケルン\",\r\n"
     ]
    }
   ],
   "source": [
    "!head ../data/workspace/all_page_list.json"
   ]
  },
  {
   "cell_type": "markdown",
   "id": "1a9147be",
   "metadata": {},
   "source": [
    "## 出身地を取得"
   ]
  },
  {
   "cell_type": "code",
   "execution_count": 8,
   "id": "396756dc",
   "metadata": {},
   "outputs": [],
   "source": [
    "def get_locations(page):\n",
    "    sparql.setQuery(f\"\"\"\n",
    "        SELECT DISTINCT * \n",
    "        WHERE {{\n",
    "            <{page}>\n",
    "            prop-ja:出身地 | prop-ja:出生地 | prop-ja:生誕地 | dbo:birthPlace | prop-ja:origin\n",
    "            ?o .\n",
    "            }}\n",
    "    \"\"\")\n",
    "    \n",
    "    res = sparql.query().convert()\n",
    "    items = res[\"results\"][\"bindings\"]\n",
    "    locations = set([x[\"o\"][\"value\"] for x in items])\n",
    "    return locations"
   ]
  },
  {
   "cell_type": "code",
   "execution_count": 9,
   "id": "413c16e3",
   "metadata": {
    "scrolled": true
   },
   "outputs": [
    {
     "data": {
      "text/plain": [
       "{'・徳島県徳島市'}"
      ]
     },
     "execution_count": 9,
     "metadata": {},
     "output_type": "execute_result"
    }
   ],
   "source": [
    "get_locations(\"http://ja.dbpedia.org/resource/米津玄師\")"
   ]
  },
  {
   "cell_type": "code",
   "execution_count": 10,
   "id": "955598a7",
   "metadata": {},
   "outputs": [
    {
     "data": {
      "text/plain": [
       "{'http://ja.dbpedia.org/resource/徳島県', '徳島県海部郡宍喰町（後の海陽町）', '徳島県海部郡宍喰町（現・海陽町）'}"
      ]
     },
     "execution_count": 10,
     "metadata": {},
     "output_type": "execute_result"
    }
   ],
   "source": [
    "get_locations(\"http://ja.dbpedia.org/resource/尾崎将司\")"
   ]
  },
  {
   "cell_type": "code",
   "execution_count": 11,
   "id": "e5494b5c",
   "metadata": {},
   "outputs": [
    {
     "data": {
      "text/plain": [
       "{'http://ja.dbpedia.org/resource/岩手県', '岩手県水沢市（現：奥州市）'}"
      ]
     },
     "execution_count": 11,
     "metadata": {},
     "output_type": "execute_result"
    }
   ],
   "source": [
    "get_locations(\"http://ja.dbpedia.org/resource/大谷翔平\")"
   ]
  },
  {
   "cell_type": "markdown",
   "id": "89dbcb79",
   "metadata": {},
   "source": [
    "### 出身地を取得できない例\n",
    "\n",
    "あくまで構造化された情報として付与されたものを対象としている。\n",
    "\n",
    "そのため、例えば自由記述で `○○はA県B市C区出身の人物である` などと記載されている**のみ**の場合は対象外となる"
   ]
  },
  {
   "cell_type": "markdown",
   "id": "8d87a6f6",
   "metadata": {},
   "source": [
    "[About: 池田幸太郎 (首長)](https://ja.dbpedia.org/page/%E6%B1%A0%E7%94%B0%E5%B9%B8%E5%A4%AA%E9%83%8E_(%E9%A6%96%E9%95%B7))\n",
    "\n",
    "> 池田幸太郎（いけだ こうたろう、1904年 - 1989年）は、日本の政治家・官僚・薬剤師。北海道旭川市出身。\n",
    "\n",
    "しかし、プロパティとしてその情報（「北海道旭川市出身」）は付与されていないため、今回の手法では出身地なしとなる。"
   ]
  },
  {
   "cell_type": "code",
   "execution_count": 12,
   "id": "2c06cbae",
   "metadata": {},
   "outputs": [
    {
     "data": {
      "text/plain": [
       "set()"
      ]
     },
     "execution_count": 12,
     "metadata": {},
     "output_type": "execute_result"
    }
   ],
   "source": [
    "get_locations(\"http://ja.dbpedia.org/page/池田幸太郎_(首長)\")"
   ]
  },
  {
   "cell_type": "markdown",
   "id": "6674c018",
   "metadata": {},
   "source": [
    "### 全件取得"
   ]
  },
  {
   "cell_type": "code",
   "execution_count": 13,
   "id": "6e95299f",
   "metadata": {
    "scrolled": true
   },
   "outputs": [
    {
     "data": {
      "text/plain": [
       "72567"
      ]
     },
     "execution_count": 13,
     "metadata": {},
     "output_type": "execute_result"
    }
   ],
   "source": [
    "with open(\"../data/workspace/all_page_list.json\") as fp:\n",
    "    all_page_list = json.load(fp)\n",
    "len(all_page_list)"
   ]
  },
  {
   "cell_type": "code",
   "execution_count": 14,
   "id": "71ca72e4",
   "metadata": {},
   "outputs": [],
   "source": [
    "with open(\"../data/workspace/page_locations_raw.json\") as fp:\n",
    "    page_locations_raw = json.load(fp)"
   ]
  },
  {
   "cell_type": "code",
   "execution_count": null,
   "id": "0acc4cee",
   "metadata": {},
   "outputs": [],
   "source": [
    "for page in tqdm(all_page_list):\n",
    "    if page in tqdem(page_locations_raw):\n",
    "        continue\n",
    "    \n",
    "    sleep(1)\n",
    "    locations = get_locations(page)\n",
    "    if not locations:\n",
    "        continue\n",
    "\n",
    "    page_locations_raw[page] = sorted(locations)"
   ]
  },
  {
   "cell_type": "code",
   "execution_count": null,
   "id": "fee55a1b",
   "metadata": {},
   "outputs": [],
   "source": [
    "with open(\"../data/workspace/page_locations_raw.json\", \"w\") as fp:\n",
    "    json.dump(page_locations_raw, fp, indent=2, ensure_ascii=False)"
   ]
  },
  {
   "cell_type": "code",
   "execution_count": 15,
   "id": "a9fe47aa",
   "metadata": {},
   "outputs": [
    {
     "name": "stdout",
     "output_type": "stream",
     "text": [
      "{\r\n",
      "  \"%22E%22qual\": [\r\n",
      "    \"愛知県名古屋市\"\r\n",
      "  ],\r\n",
      "  \"%22brother%22YASSHI\": [\r\n",
      "    \"http://ja.dbpedia.org/resource/京都府\",\r\n",
      "    \"京都府宇治市\"\r\n",
      "  ],\r\n",
      "  \"%22黒天使%22沼澤邪鬼\": [\r\n",
      "    \"http://ja.dbpedia.org/resource/埼玉県\",\r\n"
     ]
    }
   ],
   "source": [
    "!head ../data/workspace/page_locations_raw.json"
   ]
  },
  {
   "cell_type": "code",
   "execution_count": 16,
   "id": "18a7c4e3",
   "metadata": {},
   "outputs": [
    {
     "name": "stdout",
     "output_type": "stream",
     "text": [
      "    \"・栃木県佐野市\"\r\n",
      "  ],\r\n",
      "  \"［Alexandros］\": [\r\n",
      "    \"・神奈川県相模原市\",\r\n",
      "    \"愛知県日進市\",\r\n",
      "    \"神奈川県\",\r\n",
      "    \"神奈川県川崎市\",\r\n",
      "    \"神奈川県相模原市\"\r\n",
      "  ]\r\n",
      "}"
     ]
    }
   ],
   "source": [
    "!tail ../data/workspace/page_locations_raw.json"
   ]
  },
  {
   "cell_type": "markdown",
   "id": "c150176b",
   "metadata": {},
   "source": [
    "### その他"
   ]
  },
  {
   "cell_type": "code",
   "execution_count": 17,
   "id": "c7163145",
   "metadata": {},
   "outputs": [
    {
     "data": {
      "text/plain": [
       "34828"
      ]
     },
     "execution_count": 17,
     "metadata": {},
     "output_type": "execute_result"
    }
   ],
   "source": [
    "# 出身地を紐付けられなかったページ\n",
    "no_location_pages = [p for p in all_page_list if p.replace(\"http://ja.dbpedia.org/resource/\", \"\") not in page_locations_raw]\n",
    "\n",
    "with open(\"../data/workspace/no_location_pages.json\", \"w\") as fp:\n",
    "    json.dump(no_location_pages, fp, indent=2, ensure_ascii=False)\n",
    "\n",
    "len(no_location_pages)"
   ]
  },
  {
   "cell_type": "code",
   "execution_count": 18,
   "id": "15071bb3",
   "metadata": {},
   "outputs": [
    {
     "data": {
      "text/plain": [
       "['京都府京都市']"
      ]
     },
     "execution_count": 18,
     "metadata": {},
     "output_type": "execute_result"
    }
   ],
   "source": [
    "# この段階では「人物」であるかは分からない点に注意（あくまで「出身地が付与されているページ」 ）\n",
    "page_locations_raw[\"くるり\"]"
   ]
  }
 ],
 "metadata": {
  "kernelspec": {
   "display_name": "Python 3 (ipykernel)",
   "language": "python",
   "name": "python3"
  },
  "language_info": {
   "codemirror_mode": {
    "name": "ipython",
    "version": 3
   },
   "file_extension": ".py",
   "mimetype": "text/x-python",
   "name": "python",
   "nbconvert_exporter": "python",
   "pygments_lexer": "ipython3",
   "version": "3.10.0"
  }
 },
 "nbformat": 4,
 "nbformat_minor": 5
}
