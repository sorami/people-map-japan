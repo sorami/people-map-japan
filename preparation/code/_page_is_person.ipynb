{
 "cells": [
  {
   "cell_type": "markdown",
   "id": "e97ef3fa",
   "metadata": {},
   "source": [
    "# ページの種類を判定\n",
    "\n",
    "- 今回はDBPediaに「出身地」等の情報があるページを取得している\n",
    "- それが「人物」であるかは自明ではない（音楽グループ等などが含まれる）\n",
    "- それを選別可能か？\n",
    "\n",
    "**=> 結論: 構造化された情報が整備されていないできない**"
   ]
  },
  {
   "cell_type": "markdown",
   "id": "fb3f3435",
   "metadata": {},
   "source": [
    "---"
   ]
  },
  {
   "cell_type": "code",
   "execution_count": null,
   "id": "1c664752",
   "metadata": {},
   "outputs": [],
   "source": [
    "import json\n",
    "\n",
    "from SPARQLWrapper import SPARQLWrapper"
   ]
  },
  {
   "cell_type": "code",
   "execution_count": null,
   "id": "46357998",
   "metadata": {},
   "outputs": [],
   "source": [
    "sparql = SPARQLWrapper(endpoint=\"http://ja.dbpedia.org/sparql\", returnFormat=\"json\")"
   ]
  },
  {
   "cell_type": "markdown",
   "id": "819f987a",
   "metadata": {},
   "source": [
    "## 「人物」か"
   ]
  },
  {
   "cell_type": "markdown",
   "id": "67950f9d",
   "metadata": {},
   "source": [
    "\n",
    "- DBPedia\n",
    "  - [About: 大谷翔平](https://ja.dbpedia.org/page/%E5%A4%A7%E8%B0%B7%E7%BF%94%E5%B9%B3) => `An Entity of Type : Athlete`\n",
    "  - [About: 加藤一二三](https://ja.dbpedia.org/page/%E5%8A%A0%E8%97%A4%E4%B8%80%E4%BA%8C%E4%B8%89) => `An Entity of Type : Thing`\n",
    "  - [About: サカナクション](https://ja.dbpedia.org/page/%E3%82%B5%E3%82%AB%E3%83%8A%E3%82%AF%E3%82%B7%E3%83%A7%E3%83%B3) => `An Entity of Type : MusicalArtist`"
   ]
  },
  {
   "cell_type": "code",
   "execution_count": null,
   "id": "0e275df4",
   "metadata": {},
   "outputs": [],
   "source": [
    "PERSON_PROPERTIES = {\n",
    "    \"http://xmlns.com/foaf/0.1/Person\",\n",
    "    \"http://dbpedia.org/ontology/Person\",\n",
    "    \"http://schema.org/Person\"\n",
    "}\n",
    "\n",
    "def is_person(page_title):\n",
    "    sparql.setQuery(f\"\"\"\n",
    "        SELECT DISTINCT * \n",
    "        WHERE {{\n",
    "            <http://ja.dbpedia.org/resource/{page_title}>\n",
    "            <http://www.w3.org/1999/02/22-rdf-syntax-ns#type>\n",
    "            ?o .\n",
    "            }}\n",
    "    \"\"\")\n",
    "    \n",
    "    res = sparql.query().convert()\n",
    "    for x in res[\"results\"][\"bindings\"]:\n",
    "        if x[\"o\"][\"value\"] in PERSON_PROPERTIES:\n",
    "            return True\n",
    "    \n",
    "    return False"
   ]
  },
  {
   "cell_type": "code",
   "execution_count": null,
   "id": "e482dc91",
   "metadata": {},
   "outputs": [],
   "source": [
    "is_person(\"大谷翔平\")"
   ]
  },
  {
   "cell_type": "code",
   "execution_count": null,
   "id": "9e9b9081",
   "metadata": {},
   "outputs": [],
   "source": [
    "is_person(\"北海道\")"
   ]
  },
  {
   "cell_type": "code",
   "execution_count": null,
   "id": "0a9b0e24",
   "metadata": {},
   "outputs": [],
   "source": [
    "is_person(\"加藤一二三\")"
   ]
  },
  {
   "cell_type": "code",
   "execution_count": null,
   "id": "72464707",
   "metadata": {},
   "outputs": [],
   "source": [
    "is_person(\"サカナクション\")"
   ]
  },
  {
   "cell_type": "markdown",
   "id": "d1e5ff85",
   "metadata": {},
   "source": [
    "---"
   ]
  },
  {
   "cell_type": "code",
   "execution_count": null,
   "id": "5d831c01",
   "metadata": {},
   "outputs": [],
   "source": [
    "def is_natural_person(page):\n",
    "    sparql.setQuery(f\"\"\"\n",
    "        SELECT DISTINCT * \n",
    "        WHERE {{\n",
    "            <http://ja.dbpedia.org/resource/{page}>\n",
    "            rdf:type\n",
    "            ?o .\n",
    "            }}\n",
    "    \"\"\")\n",
    "\n",
    "    res = sparql.query().convert()\n",
    "    rdf_types = [x[\"o\"][\"value\"] for x in res[\"results\"][\"bindings\"]]\n",
    "\n",
    "    return \"http://www.ontologydesignpatterns.org/ont/dul/DUL.owl#NaturalPerson\" in rdf_types"
   ]
  },
  {
   "cell_type": "code",
   "execution_count": null,
   "id": "47d02f6b",
   "metadata": {},
   "outputs": [],
   "source": [
    "is_natural_person(\"大谷翔平\")"
   ]
  },
  {
   "cell_type": "code",
   "execution_count": null,
   "id": "77af64d7",
   "metadata": {},
   "outputs": [],
   "source": [
    "is_natural_person(\"北海道\")"
   ]
  },
  {
   "cell_type": "code",
   "execution_count": null,
   "id": "f180f175",
   "metadata": {},
   "outputs": [],
   "source": [
    "is_natural_person(\"加藤一二三\")"
   ]
  },
  {
   "cell_type": "code",
   "execution_count": null,
   "id": "816f08fe",
   "metadata": {},
   "outputs": [],
   "source": [
    "is_natural_person(\"サカナクション\")"
   ]
  },
  {
   "cell_type": "markdown",
   "id": "b26c223e",
   "metadata": {},
   "source": [
    "## 音楽グループか"
   ]
  },
  {
   "cell_type": "code",
   "execution_count": null,
   "id": "8df906f8",
   "metadata": {},
   "outputs": [],
   "source": [
    "def is_music_group(page):\n",
    "    sparql.setQuery(f\"\"\"\n",
    "        SELECT DISTINCT * \n",
    "        WHERE {{\n",
    "            <http://ja.dbpedia.org/resource/{page}>\n",
    "            rdf:type\n",
    "            ?o .\n",
    "            }}\n",
    "    \"\"\")\n",
    "\n",
    "    res = sparql.query().convert()\n",
    "    rdf_types = [x[\"o\"][\"value\"] for x in res[\"results\"][\"bindings\"]]\n",
    "\n",
    "    return \"http://schema.org/MusicGroup\" in rdf_types"
   ]
  },
  {
   "cell_type": "code",
   "execution_count": null,
   "id": "509b3cfa",
   "metadata": {},
   "outputs": [],
   "source": [
    "is_music_group(\"大谷翔平\")"
   ]
  },
  {
   "cell_type": "code",
   "execution_count": null,
   "id": "ba75a603",
   "metadata": {},
   "outputs": [],
   "source": [
    "is_music_group(\"加藤一二三\")"
   ]
  },
  {
   "cell_type": "code",
   "execution_count": null,
   "id": "53407775",
   "metadata": {},
   "outputs": [],
   "source": [
    "is_music_group(\"北海道\")"
   ]
  },
  {
   "cell_type": "code",
   "execution_count": null,
   "id": "ee595d76",
   "metadata": {},
   "outputs": [],
   "source": [
    "is_music_group(\"GLAY\")"
   ]
  },
  {
   "cell_type": "code",
   "execution_count": null,
   "id": "89556104",
   "metadata": {},
   "outputs": [],
   "source": [
    "is_music_group(\"米津玄師\")"
   ]
  },
  {
   "cell_type": "code",
   "execution_count": null,
   "id": "baf8af1d",
   "metadata": {},
   "outputs": [],
   "source": [
    "is_music_group(\"あいみょん\")"
   ]
  }
 ],
 "metadata": {
  "kernelspec": {
   "display_name": "Python 3 (ipykernel)",
   "language": "python",
   "name": "python3"
  },
  "language_info": {
   "codemirror_mode": {
    "name": "ipython",
    "version": 3
   },
   "file_extension": ".py",
   "mimetype": "text/x-python",
   "name": "python",
   "nbconvert_exporter": "python",
   "pygments_lexer": "ipython3",
   "version": "3.10.0"
  }
 },
 "nbformat": 4,
 "nbformat_minor": 5
}
